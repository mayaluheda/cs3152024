{
 "cells": [
  {
   "cell_type": "markdown",
   "id": "1dbe4353-ae93-4f8c-b244-5f5488134979",
   "metadata": {},
   "source": [
    "# Google Top Stories - An exploration\n",
    "\n",
    "**Description:** This dataset was collected during the pandemic, it contains headlines shown by Google Search.\n",
    "It is organized by year, month, date, hour, in a series of nested folders. The leaf folders contain JSON files with information about Google's top stories. \n",
    "\n",
    "Your goal is to write first a Python function that takes the name of the folder \"GoogleTopStories\" and stores the content of all the JSON files into a single CSV file. Once you have a CSV file, you can practice your pandas & seaborn skills in analyzing the data.\n",
    "\n",
    "Some tips and ideas for analysis:\n",
    "1. Use the Python command `os.walk` to iteratively traverse the nested subfolders. Account for hidden files that start with .\n",
    "2. Although the dataset has a column domain, imagine that it doesn't have it and write a function that takes a URL and extracts the domain name from it and saves it in a column. Use the `.apply` method to create the column. Learn how to parse URLs with `urllib.parse`.\n",
    "3. Create a bar chart with the frequencies of the top 10 domains. (Use domains, since 'source name' contains duplicates.)\n",
    "4. Create a heatmap that shows the distribution of domains across the 'story_position' values.\n",
    "5. Create timeseries of unique articles per month by query type. (This is challenging, because it is not using pandas' timeseries.)\n",
    "\n",
    "\n",
    "**Table of Content [Solutions]**\n",
    "1. [Reading all JSON files](#sec1)\n",
    "2. [Creating a new column](#sec2)\n",
    "3. [Bar chart of top domains](#sec3)\n",
    "4. [Heatmap for the story positions](#sec4)\n",
    "5. [Timeseries of unique articles by query](#sec5)"
   ]
  },
  {
   "cell_type": "markdown",
   "id": "366b059e-6191-40d4-9dad-6e75a306c4e0",
   "metadata": {},
   "source": [
    "<a id=\"sec1\"></a>\n",
    "## Part 1: Reading all JSON files\n",
    "\n",
    "Spend some time looking at the structure of the folders and subfolders in GoogleTopStories. You should notice the deep nesting. The function `os.walk` recursively traverses this nested structure. "
   ]
  },
  {
   "cell_type": "code",
   "execution_count": 1,
   "id": "2cd93b62-65e6-41e1-b7d2-fa9bfbf517bf",
   "metadata": {},
   "outputs": [],
   "source": [
    "import os, json, csv\n",
    "\n",
    "def writeFilesToCSV(pathName):\n",
    "    \"\"\"\n",
    "    Takes a foldername as an argument. Recursively reads all JSON files \n",
    "    and saves their content into a list. At the end, saves all data into a CSV file.\n",
    "    \"\"\"\n",
    "    allTopStories = []\n",
    "    totalFiles = 0\n",
    "    for dirpath, dirnames, filenames in os.walk(pathName):\n",
    "        for fN in filenames: \n",
    "            if fN.endswith('.json'): # Avoid any other types of files, such as .DS_Store\n",
    "                totalFiles += 1\n",
    "                filePath = os.path.join(dirpath, fN) # create the whole path of a file\n",
    "                with open(filePath) as inputF:\n",
    "                    data = json.load(inputF)\n",
    "                    allTopStories.extend(data)\n",
    "                \n",
    "    print(\"Total number of JSON files:\", totalFiles)\n",
    "    print(\"Total number of Top stories in the files:\", len(allTopStories))\n",
    "\n",
    "    with open(\"our-results.csv\", \"w\") as fout:\n",
    "        header = list(allTopStories[0].keys()) + ['category'] # Notice this, because not all top stories have a \"category\"\n",
    "        dW = csv.DictWriter(fout, fieldnames=header)\n",
    "        dW.writeheader()\n",
    "        dW.writerows(allTopStories)"
   ]
  },
  {
   "cell_type": "code",
   "execution_count": 2,
   "id": "619fa6ab-c350-4a08-acc6-97d1b46c617d",
   "metadata": {},
   "outputs": [
    {
     "name": "stdout",
     "output_type": "stream",
     "text": [
      "Total number of JSON files: 2443\n",
      "Total number of Top stories in the files: 16948\n"
     ]
    }
   ],
   "source": [
    "# Call the function for our folder\n",
    "writeFilesToCSV('GoogleTopStories')"
   ]
  },
  {
   "cell_type": "markdown",
   "id": "1d0c6ad8-a092-4a40-80b1-bb2f35761927",
   "metadata": {},
   "source": [
    "**Your task: Explore how `os.walk` works**\n",
    "\n",
    "In order to see how os.walks works, use below the for loop from the function to only explore the month of Aprill 2020, by printing out what the for loop generates."
   ]
  },
  {
   "cell_type": "code",
   "execution_count": 11,
   "id": "c26c6bed-a359-4b5f-ad51-275179db5230",
   "metadata": {},
   "outputs": [],
   "source": [
    "def justApril(pathName):\n",
    "    \"\"\"\n",
    "    Takes a foldername as an argument. Recursively reads all JSON files \n",
    "    and saves their content into a list. At the end, saves all data into a CSV file.\n",
    "    \"\"\"\n",
    "    allTopStories = []\n",
    "    totalFiles = 0\n",
    "    for dirpath, dirnames, filenames in os.walk(pathName):\n",
    "        for fN in filenames: \n",
    "            if fN.endswith('.json'): # Avoid any other types of files, such as .DS_Store\n",
    "                totalFiles += 1\n",
    "                filePath = os.path.join(dirpath, fN) # create the whole path of a file\n",
    "                print(fN)\n",
    "                with open(filePath) as inputF:\n",
    "                    data = json.load(inputF)\n",
    "                    allTopStories.extend(data)\n",
    "                \n",
    "    print(\"Total number of JSON files:\", totalFiles)\n",
    "    print(\"Total number of Top stories in the files:\", len(allTopStories))\n",
    "\n",
    "    with open(\"our-results.csv\", \"w\") as fout:\n",
    "        header = list(allTopStories[0].keys()) + ['category'] # Notice this, because not all top stories have a \"category\"\n",
    "        dW = csv.DictWriter(fout, fieldnames=header)\n",
    "        dW.writeheader()\n",
    "        dW.writerows(allTopStories)"
   ]
  },
  {
   "cell_type": "code",
   "execution_count": 12,
   "id": "9f9e8127-1cdd-4c18-a552-e645e4eb2456",
   "metadata": {},
   "outputs": [
    {
     "name": "stdout",
     "output_type": "stream",
     "text": [
      "Covid-19.json\n",
      "coronavirus symptoms.json\n",
      "coronavirus.json\n",
      "coronavirus test.json\n",
      "Covid-19.json\n",
      "coronavirus symptoms.json\n",
      "coronavirus.json\n",
      "coronavirus test.json\n",
      "Covid-19.json\n",
      "coronavirus symptoms.json\n",
      "coronavirus.json\n",
      "coronavirus test.json\n",
      "Covid-19.json\n",
      "coronavirus symptoms.json\n",
      "coronavirus.json\n",
      "coronavirus test.json\n",
      "Covid-19.json\n",
      "coronavirus symptoms.json\n",
      "coronavirus.json\n",
      "coronavirus test.json\n",
      "Covid-19.json\n",
      "coronavirus symptoms.json\n",
      "coronavirus.json\n",
      "coronavirus test.json\n",
      "Covid-19.json\n",
      "coronavirus symptoms.json\n",
      "coronavirus.json\n",
      "coronavirus test.json\n",
      "Covid-19.json\n",
      "coronavirus symptoms.json\n",
      "coronavirus.json\n",
      "coronavirus test.json\n",
      "Covid-19.json\n",
      "coronavirus symptoms.json\n",
      "coronavirus.json\n",
      "coronavirus test.json\n",
      "Covid-19.json\n",
      "coronavirus symptoms.json\n",
      "coronavirus.json\n",
      "coronavirus test.json\n",
      "Covid-19.json\n",
      "coronavirus symptoms.json\n",
      "coronavirus.json\n",
      "coronavirus test.json\n",
      "coronavirus symptoms-checkpoint.json\n",
      "Total number of JSON files: 45\n",
      "Total number of Top stories in the files: 352\n"
     ]
    }
   ],
   "source": [
    "justApril('GoogleTopStories/2020/04')"
   ]
  },
  {
   "cell_type": "markdown",
   "id": "a2ff2670-3681-494f-980b-12006e8c039c",
   "metadata": {},
   "source": [
    "<a id=\"sec2\"></a>\n",
    "## Part 2: Create the new `domain` column\n",
    "\n",
    "Let's load the data that we created in Part 1 into a dataframe."
   ]
  },
  {
   "cell_type": "code",
   "execution_count": 13,
   "id": "d3509da0-2b9c-4e7b-bdca-5c1e7c26415c",
   "metadata": {},
   "outputs": [
    {
     "data": {
      "text/html": [
       "<div>\n",
       "<style scoped>\n",
       "    .dataframe tbody tr th:only-of-type {\n",
       "        vertical-align: middle;\n",
       "    }\n",
       "\n",
       "    .dataframe tbody tr th {\n",
       "        vertical-align: top;\n",
       "    }\n",
       "\n",
       "    .dataframe thead th {\n",
       "        text-align: right;\n",
       "    }\n",
       "</style>\n",
       "<table border=\"1\" class=\"dataframe\">\n",
       "  <thead>\n",
       "    <tr style=\"text-align: right;\">\n",
       "      <th></th>\n",
       "      <th>title</th>\n",
       "      <th>url</th>\n",
       "      <th>source</th>\n",
       "      <th>time</th>\n",
       "      <th>date</th>\n",
       "      <th>query</th>\n",
       "      <th>story_position</th>\n",
       "      <th>domain</th>\n",
       "      <th>category</th>\n",
       "    </tr>\n",
       "  </thead>\n",
       "  <tbody>\n",
       "    <tr>\n",
       "      <th>0</th>\n",
       "      <td>ReOpen NC leader says she tested positive for ...</td>\n",
       "      <td>https://www.cbs17.com/community/health/coronav...</td>\n",
       "      <td>CBS17.com</td>\n",
       "      <td>9 hours ago</td>\n",
       "      <td>2020-04-27 22:00:00</td>\n",
       "      <td>Covid-19</td>\n",
       "      <td>1</td>\n",
       "      <td>www.cbs17.com</td>\n",
       "      <td>NaN</td>\n",
       "    </tr>\n",
       "    <tr>\n",
       "      <th>1</th>\n",
       "      <td>Deaths spiked as Covid-19 spread in March and ...</td>\n",
       "      <td>https://www.cnn.com/2020/04/27/health/deaths-s...</td>\n",
       "      <td>CNN.com</td>\n",
       "      <td>3 hours ago</td>\n",
       "      <td>2020-04-27 22:00:00</td>\n",
       "      <td>Covid-19</td>\n",
       "      <td>2</td>\n",
       "      <td>www.cnn.com</td>\n",
       "      <td>NaN</td>\n",
       "    </tr>\n",
       "    <tr>\n",
       "      <th>2</th>\n",
       "      <td>NYC Emergency Room Doctor Dies from Suicide Af...</td>\n",
       "      <td>https://www.nbcnewyork.com/news/coronavirus/ny...</td>\n",
       "      <td>NBC New York</td>\n",
       "      <td>9 mins ago</td>\n",
       "      <td>2020-04-27 22:00:00</td>\n",
       "      <td>Covid-19</td>\n",
       "      <td>3</td>\n",
       "      <td>www.nbcnewyork.com</td>\n",
       "      <td>NaN</td>\n",
       "    </tr>\n",
       "    <tr>\n",
       "      <th>3</th>\n",
       "      <td>Over 7100 people tested for COVID-19 over weekend</td>\n",
       "      <td>https://www.wbbjtv.com/2020/04/27/over-7100-pe...</td>\n",
       "      <td>WBBJ-TV</td>\n",
       "      <td>20 mins ago</td>\n",
       "      <td>2020-04-27 22:00:00</td>\n",
       "      <td>Covid-19</td>\n",
       "      <td>4</td>\n",
       "      <td>www.wbbjtv.com</td>\n",
       "      <td>NaN</td>\n",
       "    </tr>\n",
       "    <tr>\n",
       "      <th>4</th>\n",
       "      <td>COVID-19 cases in Westchester on 'downturn,' c...</td>\n",
       "      <td>https://www.lohud.com/story/news/coronavirus/2...</td>\n",
       "      <td>LoHud.com</td>\n",
       "      <td>3 hours ago</td>\n",
       "      <td>2020-04-27 22:00:00</td>\n",
       "      <td>Covid-19</td>\n",
       "      <td>5</td>\n",
       "      <td>www.lohud.com</td>\n",
       "      <td>NaN</td>\n",
       "    </tr>\n",
       "  </tbody>\n",
       "</table>\n",
       "</div>"
      ],
      "text/plain": [
       "                                               title  \\\n",
       "0  ReOpen NC leader says she tested positive for ...   \n",
       "1  Deaths spiked as Covid-19 spread in March and ...   \n",
       "2  NYC Emergency Room Doctor Dies from Suicide Af...   \n",
       "3  Over 7100 people tested for COVID-19 over weekend   \n",
       "4  COVID-19 cases in Westchester on 'downturn,' c...   \n",
       "\n",
       "                                                 url        source  \\\n",
       "0  https://www.cbs17.com/community/health/coronav...     CBS17.com   \n",
       "1  https://www.cnn.com/2020/04/27/health/deaths-s...       CNN.com   \n",
       "2  https://www.nbcnewyork.com/news/coronavirus/ny...  NBC New York   \n",
       "3  https://www.wbbjtv.com/2020/04/27/over-7100-pe...       WBBJ-TV   \n",
       "4  https://www.lohud.com/story/news/coronavirus/2...     LoHud.com   \n",
       "\n",
       "          time                 date     query  story_position  \\\n",
       "0  9 hours ago  2020-04-27 22:00:00  Covid-19               1   \n",
       "1  3 hours ago  2020-04-27 22:00:00  Covid-19               2   \n",
       "2   9 mins ago  2020-04-27 22:00:00  Covid-19               3   \n",
       "3  20 mins ago  2020-04-27 22:00:00  Covid-19               4   \n",
       "4  3 hours ago  2020-04-27 22:00:00  Covid-19               5   \n",
       "\n",
       "               domain category  \n",
       "0       www.cbs17.com      NaN  \n",
       "1         www.cnn.com      NaN  \n",
       "2  www.nbcnewyork.com      NaN  \n",
       "3      www.wbbjtv.com      NaN  \n",
       "4       www.lohud.com      NaN  "
      ]
     },
     "execution_count": 13,
     "metadata": {},
     "output_type": "execute_result"
    }
   ],
   "source": [
    "import pandas as pd\n",
    "\n",
    "df = pd.read_csv('our-results.csv')\n",
    "df.head()"
   ]
  },
  {
   "cell_type": "markdown",
   "id": "a74609d1-b6a6-4db7-b2ed-51c4c0369603",
   "metadata": {},
   "source": [
    "**How to extract the domain name from the URL?**"
   ]
  },
  {
   "cell_type": "code",
   "execution_count": 14,
   "id": "47127e98-2197-419a-a588-07d4458e1699",
   "metadata": {},
   "outputs": [
    {
     "data": {
      "text/plain": [
       "ParseResult(scheme='https', netloc='www.cbs17.com', path='/community/health/coronavirus/reopen-nc-leader-says-she-tested-positive-for-covid-19/', params='', query='', fragment='')"
      ]
     },
     "execution_count": 14,
     "metadata": {},
     "output_type": "execute_result"
    }
   ],
   "source": [
    "from urllib.parse import urlparse\n",
    "\n",
    "oneUrl = df.iloc[0]['url'] # retrieve url from first row of dataframe\n",
    "urlparse(oneUrl)"
   ]
  },
  {
   "cell_type": "markdown",
   "id": "4dea6541-41b4-4291-9d12-d3aaba37daeb",
   "metadata": {},
   "source": [
    "Notice that the result is an object and the domain name is the value of the attribute `netloc`. Now, we can easily make use of this to write the helper function to extract the domain name."
   ]
  },
  {
   "cell_type": "markdown",
   "id": "2d615da2-047c-4f56-aff8-584cba379dea",
   "metadata": {},
   "source": [
    "**Write a helper function**"
   ]
  },
  {
   "cell_type": "code",
   "execution_count": 15,
   "id": "76741dae-c2cd-4a56-8a9c-5c4e964b1242",
   "metadata": {},
   "outputs": [],
   "source": [
    "from urllib.parse import urlparse\n",
    "\n",
    "def getDomain(field):\n",
    "    \"\"\"returns the domain name of a url\"\"\"\n",
    "    return urlparse(field).netloc\n"
   ]
  },
  {
   "cell_type": "markdown",
   "id": "209dd761-07d9-4ab8-8291-2e48be3b6a4b",
   "metadata": {},
   "source": [
    "Apply the helper function to the whole column and store the results to a new column:"
   ]
  },
  {
   "cell_type": "code",
   "execution_count": 16,
   "id": "5955a6bb-bf25-4543-8bc5-2649c578927f",
   "metadata": {},
   "outputs": [
    {
     "data": {
      "text/html": [
       "<div>\n",
       "<style scoped>\n",
       "    .dataframe tbody tr th:only-of-type {\n",
       "        vertical-align: middle;\n",
       "    }\n",
       "\n",
       "    .dataframe tbody tr th {\n",
       "        vertical-align: top;\n",
       "    }\n",
       "\n",
       "    .dataframe thead th {\n",
       "        text-align: right;\n",
       "    }\n",
       "</style>\n",
       "<table border=\"1\" class=\"dataframe\">\n",
       "  <thead>\n",
       "    <tr style=\"text-align: right;\">\n",
       "      <th></th>\n",
       "      <th>title</th>\n",
       "      <th>url</th>\n",
       "      <th>source</th>\n",
       "      <th>time</th>\n",
       "      <th>date</th>\n",
       "      <th>query</th>\n",
       "      <th>story_position</th>\n",
       "      <th>domain</th>\n",
       "      <th>category</th>\n",
       "      <th>domain2</th>\n",
       "    </tr>\n",
       "  </thead>\n",
       "  <tbody>\n",
       "    <tr>\n",
       "      <th>0</th>\n",
       "      <td>ReOpen NC leader says she tested positive for ...</td>\n",
       "      <td>https://www.cbs17.com/community/health/coronav...</td>\n",
       "      <td>CBS17.com</td>\n",
       "      <td>9 hours ago</td>\n",
       "      <td>2020-04-27 22:00:00</td>\n",
       "      <td>Covid-19</td>\n",
       "      <td>1</td>\n",
       "      <td>www.cbs17.com</td>\n",
       "      <td>NaN</td>\n",
       "      <td>www.cbs17.com</td>\n",
       "    </tr>\n",
       "    <tr>\n",
       "      <th>1</th>\n",
       "      <td>Deaths spiked as Covid-19 spread in March and ...</td>\n",
       "      <td>https://www.cnn.com/2020/04/27/health/deaths-s...</td>\n",
       "      <td>CNN.com</td>\n",
       "      <td>3 hours ago</td>\n",
       "      <td>2020-04-27 22:00:00</td>\n",
       "      <td>Covid-19</td>\n",
       "      <td>2</td>\n",
       "      <td>www.cnn.com</td>\n",
       "      <td>NaN</td>\n",
       "      <td>www.cnn.com</td>\n",
       "    </tr>\n",
       "    <tr>\n",
       "      <th>2</th>\n",
       "      <td>NYC Emergency Room Doctor Dies from Suicide Af...</td>\n",
       "      <td>https://www.nbcnewyork.com/news/coronavirus/ny...</td>\n",
       "      <td>NBC New York</td>\n",
       "      <td>9 mins ago</td>\n",
       "      <td>2020-04-27 22:00:00</td>\n",
       "      <td>Covid-19</td>\n",
       "      <td>3</td>\n",
       "      <td>www.nbcnewyork.com</td>\n",
       "      <td>NaN</td>\n",
       "      <td>www.nbcnewyork.com</td>\n",
       "    </tr>\n",
       "    <tr>\n",
       "      <th>3</th>\n",
       "      <td>Over 7100 people tested for COVID-19 over weekend</td>\n",
       "      <td>https://www.wbbjtv.com/2020/04/27/over-7100-pe...</td>\n",
       "      <td>WBBJ-TV</td>\n",
       "      <td>20 mins ago</td>\n",
       "      <td>2020-04-27 22:00:00</td>\n",
       "      <td>Covid-19</td>\n",
       "      <td>4</td>\n",
       "      <td>www.wbbjtv.com</td>\n",
       "      <td>NaN</td>\n",
       "      <td>www.wbbjtv.com</td>\n",
       "    </tr>\n",
       "    <tr>\n",
       "      <th>4</th>\n",
       "      <td>COVID-19 cases in Westchester on 'downturn,' c...</td>\n",
       "      <td>https://www.lohud.com/story/news/coronavirus/2...</td>\n",
       "      <td>LoHud.com</td>\n",
       "      <td>3 hours ago</td>\n",
       "      <td>2020-04-27 22:00:00</td>\n",
       "      <td>Covid-19</td>\n",
       "      <td>5</td>\n",
       "      <td>www.lohud.com</td>\n",
       "      <td>NaN</td>\n",
       "      <td>www.lohud.com</td>\n",
       "    </tr>\n",
       "  </tbody>\n",
       "</table>\n",
       "</div>"
      ],
      "text/plain": [
       "                                               title  \\\n",
       "0  ReOpen NC leader says she tested positive for ...   \n",
       "1  Deaths spiked as Covid-19 spread in March and ...   \n",
       "2  NYC Emergency Room Doctor Dies from Suicide Af...   \n",
       "3  Over 7100 people tested for COVID-19 over weekend   \n",
       "4  COVID-19 cases in Westchester on 'downturn,' c...   \n",
       "\n",
       "                                                 url        source  \\\n",
       "0  https://www.cbs17.com/community/health/coronav...     CBS17.com   \n",
       "1  https://www.cnn.com/2020/04/27/health/deaths-s...       CNN.com   \n",
       "2  https://www.nbcnewyork.com/news/coronavirus/ny...  NBC New York   \n",
       "3  https://www.wbbjtv.com/2020/04/27/over-7100-pe...       WBBJ-TV   \n",
       "4  https://www.lohud.com/story/news/coronavirus/2...     LoHud.com   \n",
       "\n",
       "          time                 date     query  story_position  \\\n",
       "0  9 hours ago  2020-04-27 22:00:00  Covid-19               1   \n",
       "1  3 hours ago  2020-04-27 22:00:00  Covid-19               2   \n",
       "2   9 mins ago  2020-04-27 22:00:00  Covid-19               3   \n",
       "3  20 mins ago  2020-04-27 22:00:00  Covid-19               4   \n",
       "4  3 hours ago  2020-04-27 22:00:00  Covid-19               5   \n",
       "\n",
       "               domain category             domain2  \n",
       "0       www.cbs17.com      NaN       www.cbs17.com  \n",
       "1         www.cnn.com      NaN         www.cnn.com  \n",
       "2  www.nbcnewyork.com      NaN  www.nbcnewyork.com  \n",
       "3      www.wbbjtv.com      NaN      www.wbbjtv.com  \n",
       "4       www.lohud.com      NaN       www.lohud.com  "
      ]
     },
     "execution_count": 16,
     "metadata": {},
     "output_type": "execute_result"
    }
   ],
   "source": [
    "df['domain2'] = df['url'].apply(getDomain)\n",
    "df.head()"
   ]
  },
  {
   "cell_type": "markdown",
   "id": "8eec9de3-9458-4b8f-b2d9-8580b2b39029",
   "metadata": {},
   "source": [
    "**Your Task: Create a new column**\n",
    "\n",
    "Create a new column that will store the number of words on the title of each article. The column name should be `wordCount`. Show the head of the dataframe to indicate that the column was created."
   ]
  },
  {
   "cell_type": "code",
   "execution_count": 18,
   "id": "48f7458a-b4ed-4f3d-976f-055cd0d0f542",
   "metadata": {},
   "outputs": [
    {
     "data": {
      "text/html": [
       "<div>\n",
       "<style scoped>\n",
       "    .dataframe tbody tr th:only-of-type {\n",
       "        vertical-align: middle;\n",
       "    }\n",
       "\n",
       "    .dataframe tbody tr th {\n",
       "        vertical-align: top;\n",
       "    }\n",
       "\n",
       "    .dataframe thead th {\n",
       "        text-align: right;\n",
       "    }\n",
       "</style>\n",
       "<table border=\"1\" class=\"dataframe\">\n",
       "  <thead>\n",
       "    <tr style=\"text-align: right;\">\n",
       "      <th></th>\n",
       "      <th>title</th>\n",
       "      <th>url</th>\n",
       "      <th>source</th>\n",
       "      <th>time</th>\n",
       "      <th>date</th>\n",
       "      <th>query</th>\n",
       "      <th>story_position</th>\n",
       "      <th>domain</th>\n",
       "      <th>category</th>\n",
       "      <th>domain2</th>\n",
       "      <th>wordCount</th>\n",
       "    </tr>\n",
       "  </thead>\n",
       "  <tbody>\n",
       "    <tr>\n",
       "      <th>0</th>\n",
       "      <td>ReOpen NC leader says she tested positive for ...</td>\n",
       "      <td>https://www.cbs17.com/community/health/coronav...</td>\n",
       "      <td>CBS17.com</td>\n",
       "      <td>9 hours ago</td>\n",
       "      <td>2020-04-27 22:00:00</td>\n",
       "      <td>Covid-19</td>\n",
       "      <td>1</td>\n",
       "      <td>www.cbs17.com</td>\n",
       "      <td>NaN</td>\n",
       "      <td>www.cbs17.com</td>\n",
       "      <td>9</td>\n",
       "    </tr>\n",
       "    <tr>\n",
       "      <th>1</th>\n",
       "      <td>Deaths spiked as Covid-19 spread in March and ...</td>\n",
       "      <td>https://www.cnn.com/2020/04/27/health/deaths-s...</td>\n",
       "      <td>CNN.com</td>\n",
       "      <td>3 hours ago</td>\n",
       "      <td>2020-04-27 22:00:00</td>\n",
       "      <td>Covid-19</td>\n",
       "      <td>2</td>\n",
       "      <td>www.cnn.com</td>\n",
       "      <td>NaN</td>\n",
       "      <td>www.cnn.com</td>\n",
       "      <td>12</td>\n",
       "    </tr>\n",
       "    <tr>\n",
       "      <th>2</th>\n",
       "      <td>NYC Emergency Room Doctor Dies from Suicide Af...</td>\n",
       "      <td>https://www.nbcnewyork.com/news/coronavirus/ny...</td>\n",
       "      <td>NBC New York</td>\n",
       "      <td>9 mins ago</td>\n",
       "      <td>2020-04-27 22:00:00</td>\n",
       "      <td>Covid-19</td>\n",
       "      <td>3</td>\n",
       "      <td>www.nbcnewyork.com</td>\n",
       "      <td>NaN</td>\n",
       "      <td>www.nbcnewyork.com</td>\n",
       "      <td>11</td>\n",
       "    </tr>\n",
       "    <tr>\n",
       "      <th>3</th>\n",
       "      <td>Over 7100 people tested for COVID-19 over weekend</td>\n",
       "      <td>https://www.wbbjtv.com/2020/04/27/over-7100-pe...</td>\n",
       "      <td>WBBJ-TV</td>\n",
       "      <td>20 mins ago</td>\n",
       "      <td>2020-04-27 22:00:00</td>\n",
       "      <td>Covid-19</td>\n",
       "      <td>4</td>\n",
       "      <td>www.wbbjtv.com</td>\n",
       "      <td>NaN</td>\n",
       "      <td>www.wbbjtv.com</td>\n",
       "      <td>8</td>\n",
       "    </tr>\n",
       "    <tr>\n",
       "      <th>4</th>\n",
       "      <td>COVID-19 cases in Westchester on 'downturn,' c...</td>\n",
       "      <td>https://www.lohud.com/story/news/coronavirus/2...</td>\n",
       "      <td>LoHud.com</td>\n",
       "      <td>3 hours ago</td>\n",
       "      <td>2020-04-27 22:00:00</td>\n",
       "      <td>Covid-19</td>\n",
       "      <td>5</td>\n",
       "      <td>www.lohud.com</td>\n",
       "      <td>NaN</td>\n",
       "      <td>www.lohud.com</td>\n",
       "      <td>12</td>\n",
       "    </tr>\n",
       "  </tbody>\n",
       "</table>\n",
       "</div>"
      ],
      "text/plain": [
       "                                               title  \\\n",
       "0  ReOpen NC leader says she tested positive for ...   \n",
       "1  Deaths spiked as Covid-19 spread in March and ...   \n",
       "2  NYC Emergency Room Doctor Dies from Suicide Af...   \n",
       "3  Over 7100 people tested for COVID-19 over weekend   \n",
       "4  COVID-19 cases in Westchester on 'downturn,' c...   \n",
       "\n",
       "                                                 url        source  \\\n",
       "0  https://www.cbs17.com/community/health/coronav...     CBS17.com   \n",
       "1  https://www.cnn.com/2020/04/27/health/deaths-s...       CNN.com   \n",
       "2  https://www.nbcnewyork.com/news/coronavirus/ny...  NBC New York   \n",
       "3  https://www.wbbjtv.com/2020/04/27/over-7100-pe...       WBBJ-TV   \n",
       "4  https://www.lohud.com/story/news/coronavirus/2...     LoHud.com   \n",
       "\n",
       "          time                 date     query  story_position  \\\n",
       "0  9 hours ago  2020-04-27 22:00:00  Covid-19               1   \n",
       "1  3 hours ago  2020-04-27 22:00:00  Covid-19               2   \n",
       "2   9 mins ago  2020-04-27 22:00:00  Covid-19               3   \n",
       "3  20 mins ago  2020-04-27 22:00:00  Covid-19               4   \n",
       "4  3 hours ago  2020-04-27 22:00:00  Covid-19               5   \n",
       "\n",
       "               domain category             domain2  wordCount  \n",
       "0       www.cbs17.com      NaN       www.cbs17.com          9  \n",
       "1         www.cnn.com      NaN         www.cnn.com         12  \n",
       "2  www.nbcnewyork.com      NaN  www.nbcnewyork.com         11  \n",
       "3      www.wbbjtv.com      NaN      www.wbbjtv.com          8  \n",
       "4       www.lohud.com      NaN       www.lohud.com         12  "
      ]
     },
     "execution_count": 18,
     "metadata": {},
     "output_type": "execute_result"
    }
   ],
   "source": [
    "df['wordCount'] = df['title'].apply(lambda x: len(x.split()))\n",
    "df.head()"
   ]
  },
  {
   "cell_type": "code",
   "execution_count": null,
   "id": "de352e08-9a19-499e-b0b0-3ef590f69155",
   "metadata": {},
   "outputs": [],
   "source": []
  },
  {
   "cell_type": "markdown",
   "id": "deb72a7a-6e81-4171-b0ea-ace861271d8f",
   "metadata": {},
   "source": [
    "<a id=\"sec3\"></a>\n",
    "## Part 3: Bar chart of top 10 domains\n",
    "\n",
    "To create the bar chart of the top 10 domains, we first need to find the top 10 domains.\n",
    "\n",
    "The method `value_counts` returns a **sorted** series of counts for each value in a column."
   ]
  },
  {
   "cell_type": "code",
   "execution_count": 19,
   "id": "48d4c45f-c7e5-4137-a3b2-c7e9de8cb8dc",
   "metadata": {},
   "outputs": [],
   "source": [
    "# Find the top 10 domains using value_counts\n",
    "domainCounts = df['domain'].value_counts()[:10]"
   ]
  },
  {
   "cell_type": "markdown",
   "id": "9ca24649-ede3-44fd-bf47-562f31c0bbf3",
   "metadata": {},
   "source": [
    "Let's see what it looks like:"
   ]
  },
  {
   "cell_type": "code",
   "execution_count": 20,
   "id": "b83d7eaa-c881-4257-aee4-b84a9ef34952",
   "metadata": {},
   "outputs": [
    {
     "data": {
      "text/plain": [
       "domain\n",
       "www.cnn.com               49\n",
       "www.npr.org               21\n",
       "www.foxnews.com           19\n",
       "nypost.com                16\n",
       "www.usatoday.com          14\n",
       "www.cbsnews.com           12\n",
       "www.washingtonpost.com    11\n",
       "abcnews.go.com            10\n",
       "www.politico.com           8\n",
       "www.bbc.com                8\n",
       "Name: count, dtype: int64"
      ]
     },
     "execution_count": 20,
     "metadata": {},
     "output_type": "execute_result"
    }
   ],
   "source": [
    "domainCounts"
   ]
  },
  {
   "cell_type": "markdown",
   "id": "77cb485b-4935-44da-b4bf-5e5c7b618460",
   "metadata": {},
   "source": [
    "Let's look up the type of our our result:"
   ]
  },
  {
   "cell_type": "code",
   "execution_count": 21,
   "id": "384c5af3-9cb6-4d80-b310-68bba8e0d8da",
   "metadata": {},
   "outputs": [
    {
     "data": {
      "text/plain": [
       "pandas.core.series.Series"
      ]
     },
     "execution_count": 21,
     "metadata": {},
     "output_type": "execute_result"
    }
   ],
   "source": [
    "type(domainCounts)"
   ]
  },
  {
   "cell_type": "markdown",
   "id": "a1e9758c-5ff7-4c45-b5dc-921e3787f129",
   "metadata": {},
   "source": [
    "Since the result is a Series, we will convert it to a dataframe. [**Note:** The method `reset_index` converts a Series into a DataFrame, where the original index becomes a column in the DataFrame, and the Series values occupies another column, for which we have to provide a column name.]"
   ]
  },
  {
   "cell_type": "code",
   "execution_count": 22,
   "id": "c446a56b-49d3-4ee9-aa3c-7b049a7bc8e7",
   "metadata": {},
   "outputs": [
    {
     "data": {
      "text/html": [
       "<div>\n",
       "<style scoped>\n",
       "    .dataframe tbody tr th:only-of-type {\n",
       "        vertical-align: middle;\n",
       "    }\n",
       "\n",
       "    .dataframe tbody tr th {\n",
       "        vertical-align: top;\n",
       "    }\n",
       "\n",
       "    .dataframe thead th {\n",
       "        text-align: right;\n",
       "    }\n",
       "</style>\n",
       "<table border=\"1\" class=\"dataframe\">\n",
       "  <thead>\n",
       "    <tr style=\"text-align: right;\">\n",
       "      <th></th>\n",
       "      <th>domain</th>\n",
       "      <th>count</th>\n",
       "    </tr>\n",
       "  </thead>\n",
       "  <tbody>\n",
       "    <tr>\n",
       "      <th>0</th>\n",
       "      <td>www.cnn.com</td>\n",
       "      <td>49</td>\n",
       "    </tr>\n",
       "    <tr>\n",
       "      <th>1</th>\n",
       "      <td>www.npr.org</td>\n",
       "      <td>21</td>\n",
       "    </tr>\n",
       "    <tr>\n",
       "      <th>2</th>\n",
       "      <td>www.foxnews.com</td>\n",
       "      <td>19</td>\n",
       "    </tr>\n",
       "    <tr>\n",
       "      <th>3</th>\n",
       "      <td>nypost.com</td>\n",
       "      <td>16</td>\n",
       "    </tr>\n",
       "    <tr>\n",
       "      <th>4</th>\n",
       "      <td>www.usatoday.com</td>\n",
       "      <td>14</td>\n",
       "    </tr>\n",
       "    <tr>\n",
       "      <th>5</th>\n",
       "      <td>www.cbsnews.com</td>\n",
       "      <td>12</td>\n",
       "    </tr>\n",
       "    <tr>\n",
       "      <th>6</th>\n",
       "      <td>www.washingtonpost.com</td>\n",
       "      <td>11</td>\n",
       "    </tr>\n",
       "    <tr>\n",
       "      <th>7</th>\n",
       "      <td>abcnews.go.com</td>\n",
       "      <td>10</td>\n",
       "    </tr>\n",
       "    <tr>\n",
       "      <th>8</th>\n",
       "      <td>www.politico.com</td>\n",
       "      <td>8</td>\n",
       "    </tr>\n",
       "    <tr>\n",
       "      <th>9</th>\n",
       "      <td>www.bbc.com</td>\n",
       "      <td>8</td>\n",
       "    </tr>\n",
       "  </tbody>\n",
       "</table>\n",
       "</div>"
      ],
      "text/plain": [
       "                   domain  count\n",
       "0             www.cnn.com     49\n",
       "1             www.npr.org     21\n",
       "2         www.foxnews.com     19\n",
       "3              nypost.com     16\n",
       "4        www.usatoday.com     14\n",
       "5         www.cbsnews.com     12\n",
       "6  www.washingtonpost.com     11\n",
       "7          abcnews.go.com     10\n",
       "8        www.politico.com      8\n",
       "9             www.bbc.com      8"
      ]
     },
     "execution_count": 22,
     "metadata": {},
     "output_type": "execute_result"
    }
   ],
   "source": [
    "data = domainCounts.reset_index(name='count')\n",
    "data"
   ]
  },
  {
   "cell_type": "markdown",
   "id": "639d2b4c-8874-4f38-ad7e-49703f777cf5",
   "metadata": {},
   "source": [
    "Now that we have a dataframe we can use Seaborn to generate charts. Below I'm creating a bar plot."
   ]
  },
  {
   "cell_type": "code",
   "execution_count": 24,
   "id": "79831878-17d2-4c07-bfbc-965757b44a65",
   "metadata": {},
   "outputs": [
    {
     "data": {
      "image/png": "[encoded data removed]",
      "text/plain": [
       "<Figure size 800x400 with 1 Axes>"
      ]
     },
     "metadata": {},
     "output_type": "display_data"
    }
   ],
   "source": [
    "import seaborn as sns\n",
    "import matplotlib.pyplot as plt\n",
    "\n",
    "plt.figure(figsize=(8, 4))   # adjusting the size of the figure where the plot will be displayed\n",
    "sns.set_style(\"whitegrid\")  \n",
    "\n",
    "# Create the horizontal bar plot\n",
    "ax = sns.barplot(x='count', y='domain', data=data, color=\"salmon\", legend=None)\n",
    "\n",
    "# Set titles\n",
    "ax.set_xlabel(\"Count\", fontsize=10)\n",
    "ax.set_ylabel(\"Domain\", fontsize=10)\n",
    "ax.set_title(\"Top 10 Domains by Count\", fontsize=14)\n",
    "\n",
    "# Display the plot\n",
    "plt.show()"
   ]
  },
  {
   "cell_type": "markdown",
   "id": "b1576471-b181-4d79-9651-3bf5d8178476",
   "metadata": {},
   "source": [
    "**Your Task: Create a bar chart of query occurrences**\n",
    "\n",
    "Adapt the code above to generate the bar chart of the query occurrences. Make sure that you change the barplot titles to reflect the new variable being displayed. Change the color of the graph and [visit this Seaborn documentation page](https://seaborn.pydata.org/tutorial/aesthetics.html) for inspiration on changing the style of the plot."
   ]
  },
  {
   "cell_type": "code",
   "execution_count": 30,
   "id": "1b24e808-f9a7-47cb-8a74-63ee6e298aaa",
   "metadata": {},
   "outputs": [
    {
     "data": {
      "text/plain": [
       "pandas.core.series.Series"
      ]
     },
     "execution_count": 30,
     "metadata": {},
     "output_type": "execute_result"
    }
   ],
   "source": [
    "queryCounts = df['query'].value_counts()\n",
    "queryCounts\n",
    "type(queryCounts)\n"
   ]
  },
  {
   "cell_type": "code",
   "execution_count": 36,
   "id": "1724606a-9be9-4471-a9f3-9d162ddbb1a7",
   "metadata": {},
   "outputs": [
    {
     "data": {
      "text/html": [
       "<div>\n",
       "<style scoped>\n",
       "    .dataframe tbody tr th:only-of-type {\n",
       "        vertical-align: middle;\n",
       "    }\n",
       "\n",
       "    .dataframe tbody tr th {\n",
       "        vertical-align: top;\n",
       "    }\n",
       "\n",
       "    .dataframe thead th {\n",
       "        text-align: right;\n",
       "    }\n",
       "</style>\n",
       "<table border=\"1\" class=\"dataframe\">\n",
       "  <thead>\n",
       "    <tr style=\"text-align: right;\">\n",
       "      <th></th>\n",
       "      <th>query</th>\n",
       "      <th>count</th>\n",
       "    </tr>\n",
       "  </thead>\n",
       "  <tbody>\n",
       "    <tr>\n",
       "      <th>0</th>\n",
       "      <td>Covid-19</td>\n",
       "      <td>110</td>\n",
       "    </tr>\n",
       "    <tr>\n",
       "      <th>1</th>\n",
       "      <td>coronavirus</td>\n",
       "      <td>110</td>\n",
       "    </tr>\n",
       "    <tr>\n",
       "      <th>2</th>\n",
       "      <td>coronavirus symptoms</td>\n",
       "      <td>78</td>\n",
       "    </tr>\n",
       "    <tr>\n",
       "      <th>3</th>\n",
       "      <td>coronavirus test</td>\n",
       "      <td>54</td>\n",
       "    </tr>\n",
       "  </tbody>\n",
       "</table>\n",
       "</div>"
      ],
      "text/plain": [
       "                  query  count\n",
       "0              Covid-19    110\n",
       "1           coronavirus    110\n",
       "2  coronavirus symptoms     78\n",
       "3      coronavirus test     54"
      ]
     },
     "execution_count": 36,
     "metadata": {},
     "output_type": "execute_result"
    }
   ],
   "source": [
    "data1 = queryCounts.reset_index(name='count') #the data for query counts\n",
    "data1"
   ]
  },
  {
   "cell_type": "code",
   "execution_count": 38,
   "id": "d1ee7935-5305-4e18-8013-43c11a034899",
   "metadata": {},
   "outputs": [
    {
     "ename": "ValueError",
     "evalue": "Could not interpret value `count` for `x`. Value is a string, but `data` was not passed.",
     "output_type": "error",
     "traceback": [
      "\u001b[0;31m---------------------------------------------------------------------------\u001b[0m",
      "\u001b[0;31mValueError\u001b[0m                                Traceback (most recent call last)",
      "Cell \u001b[0;32mIn[38], line 5\u001b[0m\n\u001b[1;32m      2\u001b[0m sns\u001b[38;5;241m.\u001b[39mset_style(\u001b[38;5;124m\"\u001b[39m\u001b[38;5;124mwhitegrid\u001b[39m\u001b[38;5;124m\"\u001b[39m)\n\u001b[1;32m      4\u001b[0m \u001b[38;5;66;03m# Create the horizontal bar plot\u001b[39;00m\n\u001b[0;32m----> 5\u001b[0m ax \u001b[38;5;241m=\u001b[39m sns\u001b[38;5;241m.\u001b[39mbarplot(x\u001b[38;5;241m=\u001b[39m\u001b[38;5;124m'\u001b[39m\u001b[38;5;124mcount\u001b[39m\u001b[38;5;124m'\u001b[39m, y\u001b[38;5;241m=\u001b[39m\u001b[38;5;124m'\u001b[39m\u001b[38;5;124mquery\u001b[39m\u001b[38;5;124m'\u001b[39m, data1\u001b[38;5;241m=\u001b[39mdata1, color\u001b[38;5;241m=\u001b[39m\u001b[38;5;124m\"\u001b[39m\u001b[38;5;124mseagreen\u001b[39m\u001b[38;5;124m\"\u001b[39m, legend\u001b[38;5;241m=\u001b[39m\u001b[38;5;28;01mNone\u001b[39;00m)\n\u001b[1;32m      6\u001b[0m \u001b[38;5;66;03m# Set titles\u001b[39;00m\n\u001b[1;32m      7\u001b[0m ax\u001b[38;5;241m.\u001b[39mset_xlabel(\u001b[38;5;124m\"\u001b[39m\u001b[38;5;124mCount\u001b[39m\u001b[38;5;124m\"\u001b[39m, fontsize\u001b[38;5;241m=\u001b[39m\u001b[38;5;241m10\u001b[39m)\n",
      "File \u001b[0;32m~/miniconda3/lib/python3.11/site-packages/seaborn/categorical.py:2341\u001b[0m, in \u001b[0;36mbarplot\u001b[0;34m(data, x, y, hue, order, hue_order, estimator, errorbar, n_boot, seed, units, weights, orient, color, palette, saturation, fill, hue_norm, width, dodge, gap, log_scale, native_scale, formatter, legend, capsize, err_kws, ci, errcolor, errwidth, ax, **kwargs)\u001b[0m\n\u001b[1;32m   2338\u001b[0m \u001b[38;5;28;01mif\u001b[39;00m estimator \u001b[38;5;129;01mis\u001b[39;00m \u001b[38;5;28mlen\u001b[39m:\n\u001b[1;32m   2339\u001b[0m     estimator \u001b[38;5;241m=\u001b[39m \u001b[38;5;124m\"\u001b[39m\u001b[38;5;124msize\u001b[39m\u001b[38;5;124m\"\u001b[39m\n\u001b[0;32m-> 2341\u001b[0m p \u001b[38;5;241m=\u001b[39m _CategoricalAggPlotter(\n\u001b[1;32m   2342\u001b[0m     data\u001b[38;5;241m=\u001b[39mdata,\n\u001b[1;32m   2343\u001b[0m     variables\u001b[38;5;241m=\u001b[39m\u001b[38;5;28mdict\u001b[39m(x\u001b[38;5;241m=\u001b[39mx, y\u001b[38;5;241m=\u001b[39my, hue\u001b[38;5;241m=\u001b[39mhue, units\u001b[38;5;241m=\u001b[39munits, weight\u001b[38;5;241m=\u001b[39mweights),\n\u001b[1;32m   2344\u001b[0m     order\u001b[38;5;241m=\u001b[39morder,\n\u001b[1;32m   2345\u001b[0m     orient\u001b[38;5;241m=\u001b[39morient,\n\u001b[1;32m   2346\u001b[0m     color\u001b[38;5;241m=\u001b[39mcolor,\n\u001b[1;32m   2347\u001b[0m     legend\u001b[38;5;241m=\u001b[39mlegend,\n\u001b[1;32m   2348\u001b[0m )\n\u001b[1;32m   2350\u001b[0m \u001b[38;5;28;01mif\u001b[39;00m ax \u001b[38;5;129;01mis\u001b[39;00m \u001b[38;5;28;01mNone\u001b[39;00m:\n\u001b[1;32m   2351\u001b[0m     ax \u001b[38;5;241m=\u001b[39m plt\u001b[38;5;241m.\u001b[39mgca()\n",
      "File \u001b[0;32m~/miniconda3/lib/python3.11/site-packages/seaborn/categorical.py:67\u001b[0m, in \u001b[0;36m_CategoricalPlotter.__init__\u001b[0;34m(self, data, variables, order, orient, require_numeric, color, legend)\u001b[0m\n\u001b[1;32m     56\u001b[0m \u001b[38;5;28;01mdef\u001b[39;00m \u001b[38;5;21m__init__\u001b[39m(\n\u001b[1;32m     57\u001b[0m     \u001b[38;5;28mself\u001b[39m,\n\u001b[1;32m     58\u001b[0m     data\u001b[38;5;241m=\u001b[39m\u001b[38;5;28;01mNone\u001b[39;00m,\n\u001b[0;32m   (...)\u001b[0m\n\u001b[1;32m     64\u001b[0m     legend\u001b[38;5;241m=\u001b[39m\u001b[38;5;124m\"\u001b[39m\u001b[38;5;124mauto\u001b[39m\u001b[38;5;124m\"\u001b[39m,\n\u001b[1;32m     65\u001b[0m ):\n\u001b[0;32m---> 67\u001b[0m     \u001b[38;5;28msuper\u001b[39m()\u001b[38;5;241m.\u001b[39m\u001b[38;5;21m__init__\u001b[39m(data\u001b[38;5;241m=\u001b[39mdata, variables\u001b[38;5;241m=\u001b[39mvariables)\n\u001b[1;32m     69\u001b[0m     \u001b[38;5;66;03m# This method takes care of some bookkeeping that is necessary because the\u001b[39;00m\n\u001b[1;32m     70\u001b[0m     \u001b[38;5;66;03m# original categorical plots (prior to the 2021 refactor) had some rules that\u001b[39;00m\n\u001b[1;32m     71\u001b[0m     \u001b[38;5;66;03m# don't fit exactly into VectorPlotter logic. It may be wise to have a second\u001b[39;00m\n\u001b[0;32m   (...)\u001b[0m\n\u001b[1;32m     76\u001b[0m     \u001b[38;5;66;03m# default VectorPlotter rules. If we do decide to make orient part of the\u001b[39;00m\n\u001b[1;32m     77\u001b[0m     \u001b[38;5;66;03m# _base variable assignment, we'll want to figure out how to express that.\u001b[39;00m\n\u001b[1;32m     78\u001b[0m     \u001b[38;5;28;01mif\u001b[39;00m \u001b[38;5;28mself\u001b[39m\u001b[38;5;241m.\u001b[39minput_format \u001b[38;5;241m==\u001b[39m \u001b[38;5;124m\"\u001b[39m\u001b[38;5;124mwide\u001b[39m\u001b[38;5;124m\"\u001b[39m \u001b[38;5;129;01mand\u001b[39;00m orient \u001b[38;5;129;01min\u001b[39;00m [\u001b[38;5;124m\"\u001b[39m\u001b[38;5;124mh\u001b[39m\u001b[38;5;124m\"\u001b[39m, \u001b[38;5;124m\"\u001b[39m\u001b[38;5;124my\u001b[39m\u001b[38;5;124m\"\u001b[39m]:\n",
      "File \u001b[0;32m~/miniconda3/lib/python3.11/site-packages/seaborn/_base.py:634\u001b[0m, in \u001b[0;36mVectorPlotter.__init__\u001b[0;34m(self, data, variables)\u001b[0m\n\u001b[1;32m    629\u001b[0m \u001b[38;5;66;03m# var_ordered is relevant only for categorical axis variables, and may\u001b[39;00m\n\u001b[1;32m    630\u001b[0m \u001b[38;5;66;03m# be better handled by an internal axis information object that tracks\u001b[39;00m\n\u001b[1;32m    631\u001b[0m \u001b[38;5;66;03m# such information and is set up by the scale_* methods. The analogous\u001b[39;00m\n\u001b[1;32m    632\u001b[0m \u001b[38;5;66;03m# information for numeric axes would be information about log scales.\u001b[39;00m\n\u001b[1;32m    633\u001b[0m \u001b[38;5;28mself\u001b[39m\u001b[38;5;241m.\u001b[39m_var_ordered \u001b[38;5;241m=\u001b[39m {\u001b[38;5;124m\"\u001b[39m\u001b[38;5;124mx\u001b[39m\u001b[38;5;124m\"\u001b[39m: \u001b[38;5;28;01mFalse\u001b[39;00m, \u001b[38;5;124m\"\u001b[39m\u001b[38;5;124my\u001b[39m\u001b[38;5;124m\"\u001b[39m: \u001b[38;5;28;01mFalse\u001b[39;00m}  \u001b[38;5;66;03m# alt., used DefaultDict\u001b[39;00m\n\u001b[0;32m--> 634\u001b[0m \u001b[38;5;28mself\u001b[39m\u001b[38;5;241m.\u001b[39massign_variables(data, variables)\n\u001b[1;32m    636\u001b[0m \u001b[38;5;66;03m# TODO Lots of tests assume that these are called to initialize the\u001b[39;00m\n\u001b[1;32m    637\u001b[0m \u001b[38;5;66;03m# mappings to default values on class initialization. I'd prefer to\u001b[39;00m\n\u001b[1;32m    638\u001b[0m \u001b[38;5;66;03m# move away from that and only have a mapping when explicitly called.\u001b[39;00m\n\u001b[1;32m    639\u001b[0m \u001b[38;5;28;01mfor\u001b[39;00m var \u001b[38;5;129;01min\u001b[39;00m [\u001b[38;5;124m\"\u001b[39m\u001b[38;5;124mhue\u001b[39m\u001b[38;5;124m\"\u001b[39m, \u001b[38;5;124m\"\u001b[39m\u001b[38;5;124msize\u001b[39m\u001b[38;5;124m\"\u001b[39m, \u001b[38;5;124m\"\u001b[39m\u001b[38;5;124mstyle\u001b[39m\u001b[38;5;124m\"\u001b[39m]:\n",
      "File \u001b[0;32m~/miniconda3/lib/python3.11/site-packages/seaborn/_base.py:679\u001b[0m, in \u001b[0;36mVectorPlotter.assign_variables\u001b[0;34m(self, data, variables)\u001b[0m\n\u001b[1;32m    674\u001b[0m \u001b[38;5;28;01melse\u001b[39;00m:\n\u001b[1;32m    675\u001b[0m     \u001b[38;5;66;03m# When dealing with long-form input, use the newer PlotData\u001b[39;00m\n\u001b[1;32m    676\u001b[0m     \u001b[38;5;66;03m# object (internal but introduced for the objects interface)\u001b[39;00m\n\u001b[1;32m    677\u001b[0m     \u001b[38;5;66;03m# to centralize / standardize data consumption logic.\u001b[39;00m\n\u001b[1;32m    678\u001b[0m     \u001b[38;5;28mself\u001b[39m\u001b[38;5;241m.\u001b[39minput_format \u001b[38;5;241m=\u001b[39m \u001b[38;5;124m\"\u001b[39m\u001b[38;5;124mlong\u001b[39m\u001b[38;5;124m\"\u001b[39m\n\u001b[0;32m--> 679\u001b[0m     plot_data \u001b[38;5;241m=\u001b[39m PlotData(data, variables)\n\u001b[1;32m    680\u001b[0m     frame \u001b[38;5;241m=\u001b[39m plot_data\u001b[38;5;241m.\u001b[39mframe\n\u001b[1;32m    681\u001b[0m     names \u001b[38;5;241m=\u001b[39m plot_data\u001b[38;5;241m.\u001b[39mnames\n",
      "File \u001b[0;32m~/miniconda3/lib/python3.11/site-packages/seaborn/_core/data.py:58\u001b[0m, in \u001b[0;36mPlotData.__init__\u001b[0;34m(self, data, variables)\u001b[0m\n\u001b[1;32m     51\u001b[0m \u001b[38;5;28;01mdef\u001b[39;00m \u001b[38;5;21m__init__\u001b[39m(\n\u001b[1;32m     52\u001b[0m     \u001b[38;5;28mself\u001b[39m,\n\u001b[1;32m     53\u001b[0m     data: DataSource,\n\u001b[1;32m     54\u001b[0m     variables: \u001b[38;5;28mdict\u001b[39m[\u001b[38;5;28mstr\u001b[39m, VariableSpec],\n\u001b[1;32m     55\u001b[0m ):\n\u001b[1;32m     57\u001b[0m     data \u001b[38;5;241m=\u001b[39m handle_data_source(data)\n\u001b[0;32m---> 58\u001b[0m     frame, names, ids \u001b[38;5;241m=\u001b[39m \u001b[38;5;28mself\u001b[39m\u001b[38;5;241m.\u001b[39m_assign_variables(data, variables)\n\u001b[1;32m     60\u001b[0m     \u001b[38;5;28mself\u001b[39m\u001b[38;5;241m.\u001b[39mframe \u001b[38;5;241m=\u001b[39m frame\n\u001b[1;32m     61\u001b[0m     \u001b[38;5;28mself\u001b[39m\u001b[38;5;241m.\u001b[39mnames \u001b[38;5;241m=\u001b[39m names\n",
      "File \u001b[0;32m~/miniconda3/lib/python3.11/site-packages/seaborn/_core/data.py:232\u001b[0m, in \u001b[0;36mPlotData._assign_variables\u001b[0;34m(self, data, variables)\u001b[0m\n\u001b[1;32m    230\u001b[0m     \u001b[38;5;28;01melse\u001b[39;00m:\n\u001b[1;32m    231\u001b[0m         err \u001b[38;5;241m+\u001b[39m\u001b[38;5;241m=\u001b[39m \u001b[38;5;124m\"\u001b[39m\u001b[38;5;124mAn entry with this name does not appear in `data`.\u001b[39m\u001b[38;5;124m\"\u001b[39m\n\u001b[0;32m--> 232\u001b[0m     \u001b[38;5;28;01mraise\u001b[39;00m \u001b[38;5;167;01mValueError\u001b[39;00m(err)\n\u001b[1;32m    234\u001b[0m \u001b[38;5;28;01melse\u001b[39;00m:\n\u001b[1;32m    235\u001b[0m \n\u001b[1;32m    236\u001b[0m     \u001b[38;5;66;03m# Otherwise, assume the value somehow represents data\u001b[39;00m\n\u001b[1;32m    237\u001b[0m \n\u001b[1;32m    238\u001b[0m     \u001b[38;5;66;03m# Ignore empty data structures\u001b[39;00m\n\u001b[1;32m    239\u001b[0m     \u001b[38;5;28;01mif\u001b[39;00m \u001b[38;5;28misinstance\u001b[39m(val, Sized) \u001b[38;5;129;01mand\u001b[39;00m \u001b[38;5;28mlen\u001b[39m(val) \u001b[38;5;241m==\u001b[39m \u001b[38;5;241m0\u001b[39m:\n",
      "\u001b[0;31mValueError\u001b[0m: Could not interpret value `count` for `x`. Value is a string, but `data` was not passed."
     ]
    },
    {
     "data": {
      "text/plain": [
       "<Figure size 800x400 with 0 Axes>"
      ]
     },
     "metadata": {},
     "output_type": "display_data"
    }
   ],
   "source": [
    "plt.figure(figsize=(8, 4))   # adjusting the size of the figure where the plot will be displayed\n",
    "sns.set_style(\"whitegrid\")\n",
    "\n",
    "# Create the horizontal bar plot\n",
    "ax = sns.barplot(x='count', y='query', data1=data1, color=\"seagreen\", legend=None)\n",
    "# Set titles\n",
    "ax.set_xlabel(\"Count\", fontsize=10)\n",
    "ax.set_ylabel(\"Query\", fontsize=10)\n",
    "ax.set_title(\"Top 3 Query by Count\", fontsize=14)\n",
    "\n",
    "# Display the plot\n",
    "plt.show()"
   ]
  },
  {
   "cell_type": "markdown",
   "id": "77dc99af-71f7-42a4-8085-8f07c92f569f",
   "metadata": {},
   "source": [
    "<a id=\"sec4\"></a>\n",
    "## Part 4: Heatmap for the story positions\n",
    "\n",
    "We are interested in the question: Are all news sources equally likely to show up in all positions? Or some of them show up more frequently in a certain position? To explore this question visually, we will create a heatmap. However, since there are hundreds of news sources in our dataset, we will focus only on the top 10 for simplicity."
   ]
  },
  {
   "cell_type": "code",
   "execution_count": 39,
   "id": "16365311-07f9-407a-b2ed-9dad0990cdb4",
   "metadata": {},
   "outputs": [
    {
     "data": {
      "text/plain": [
       "(168, 11)"
      ]
     },
     "execution_count": 39,
     "metadata": {},
     "output_type": "execute_result"
    }
   ],
   "source": [
    "# First, find the names of the top 10 domains\n",
    "# Then, filter the dataframe to select only the rows of one of the top 10 domains (articles that belong to these news domains)\n",
    "\n",
    "topTen = df['domain'].value_counts()[:10].index.tolist() # remember from part 3 that value_counts returns a Series and the 'domain' column is the index of it\n",
    "dfSmall = df[df['domain'].isin(topTen)] # do the filtering. Notice the filter syntax.\n",
    "dfSmall.shape"
   ]
  },
  {
   "cell_type": "markdown",
   "id": "ef8ed4ea-b290-42a6-ac43-fa047424f17c",
   "metadata": {},
   "source": [
    "As a reminder, here is what the size of the whole dataframe is:"
   ]
  },
  {
   "cell_type": "code",
   "execution_count": 40,
   "id": "106088f6-0377-4c20-b125-548008176957",
   "metadata": {},
   "outputs": [
    {
     "data": {
      "text/plain": [
       "(352, 11)"
      ]
     },
     "execution_count": 40,
     "metadata": {},
     "output_type": "execute_result"
    }
   ],
   "source": [
    "df.shape"
   ]
  },
  {
   "cell_type": "markdown",
   "id": "e398e80a-70df-4dff-b435-0ed9331005f6",
   "metadata": {},
   "source": [
    "Let's calcuate the proportion of articles from the top 10 domains:"
   ]
  },
  {
   "cell_type": "code",
   "execution_count": 41,
   "id": "96f25f95-3ef7-416a-a8ba-644a7232e52a",
   "metadata": {},
   "outputs": [
    {
     "data": {
      "text/plain": [
       "47.72727272727273"
      ]
     },
     "execution_count": 41,
     "metadata": {},
     "output_type": "execute_result"
    }
   ],
   "source": [
    "proportion = dfSmall.shape[0]/df.shape[0] * 100\n",
    "proportion"
   ]
  },
  {
   "cell_type": "markdown",
   "id": "0e41c91a-edd9-42b4-9d20-8af50df60a0d",
   "metadata": {},
   "source": [
    "**Question:** What does the fact that the proportion of the occurrences of the top 10 domains comes at 45% tell us about Google's algorithms?"
   ]
  },
  {
   "cell_type": "markdown",
   "id": "80bf7d37-fd2f-4e75-a54d-a396b1442a73",
   "metadata": {},
   "source": [
    "**Your Answer:** \n",
    "I think that this tells us that Google's algorthim often shares content that is from a top 10 list of domains. It however also makes us wonder what the other 55% is and what is shown through that. "
   ]
  },
  {
   "cell_type": "markdown",
   "id": "911c0a4a-ad73-4378-b60c-0de298f090c4",
   "metadata": {},
   "source": [
    "### Creating a pivot table\n",
    "\n",
    "Our current dataframe, `dfSmall` presents itself as a **tidy table**, each row is an observation. We will now convert it to a form that it is not a **tidy table**, because the columns will become values of the variable \"story_position\". This will allow us to count how many domains show up in each of the 10 positions.\n",
    "\n",
    "To create such a table we will use pandas' `pivot_table` method, which builds upon the `groupby` method that we have seen."
   ]
  },
  {
   "cell_type": "code",
   "execution_count": 42,
   "id": "de0385ae-39bf-4ac2-82c9-67f05cdc6c6b",
   "metadata": {},
   "outputs": [
    {
     "data": {
      "text/html": [
       "<div>\n",
       "<style scoped>\n",
       "    .dataframe tbody tr th:only-of-type {\n",
       "        vertical-align: middle;\n",
       "    }\n",
       "\n",
       "    .dataframe tbody tr th {\n",
       "        vertical-align: top;\n",
       "    }\n",
       "\n",
       "    .dataframe thead th {\n",
       "        text-align: right;\n",
       "    }\n",
       "</style>\n",
       "<table border=\"1\" class=\"dataframe\">\n",
       "  <thead>\n",
       "    <tr style=\"text-align: right;\">\n",
       "      <th>story_position</th>\n",
       "      <th>1</th>\n",
       "      <th>2</th>\n",
       "      <th>3</th>\n",
       "      <th>4</th>\n",
       "      <th>5</th>\n",
       "      <th>6</th>\n",
       "      <th>7</th>\n",
       "      <th>8</th>\n",
       "      <th>9</th>\n",
       "      <th>10</th>\n",
       "    </tr>\n",
       "    <tr>\n",
       "      <th>domain</th>\n",
       "      <th></th>\n",
       "      <th></th>\n",
       "      <th></th>\n",
       "      <th></th>\n",
       "      <th></th>\n",
       "      <th></th>\n",
       "      <th></th>\n",
       "      <th></th>\n",
       "      <th></th>\n",
       "      <th></th>\n",
       "    </tr>\n",
       "  </thead>\n",
       "  <tbody>\n",
       "    <tr>\n",
       "      <th>abcnews.go.com</th>\n",
       "      <td>5</td>\n",
       "      <td>0</td>\n",
       "      <td>1</td>\n",
       "      <td>0</td>\n",
       "      <td>1</td>\n",
       "      <td>0</td>\n",
       "      <td>1</td>\n",
       "      <td>1</td>\n",
       "      <td>0</td>\n",
       "      <td>1</td>\n",
       "    </tr>\n",
       "    <tr>\n",
       "      <th>nypost.com</th>\n",
       "      <td>0</td>\n",
       "      <td>2</td>\n",
       "      <td>3</td>\n",
       "      <td>1</td>\n",
       "      <td>3</td>\n",
       "      <td>1</td>\n",
       "      <td>0</td>\n",
       "      <td>0</td>\n",
       "      <td>5</td>\n",
       "      <td>1</td>\n",
       "    </tr>\n",
       "    <tr>\n",
       "      <th>www.bbc.com</th>\n",
       "      <td>1</td>\n",
       "      <td>1</td>\n",
       "      <td>0</td>\n",
       "      <td>0</td>\n",
       "      <td>0</td>\n",
       "      <td>2</td>\n",
       "      <td>0</td>\n",
       "      <td>2</td>\n",
       "      <td>2</td>\n",
       "      <td>0</td>\n",
       "    </tr>\n",
       "    <tr>\n",
       "      <th>www.cbsnews.com</th>\n",
       "      <td>1</td>\n",
       "      <td>2</td>\n",
       "      <td>7</td>\n",
       "      <td>1</td>\n",
       "      <td>0</td>\n",
       "      <td>0</td>\n",
       "      <td>0</td>\n",
       "      <td>1</td>\n",
       "      <td>0</td>\n",
       "      <td>0</td>\n",
       "    </tr>\n",
       "    <tr>\n",
       "      <th>www.cnn.com</th>\n",
       "      <td>19</td>\n",
       "      <td>8</td>\n",
       "      <td>6</td>\n",
       "      <td>5</td>\n",
       "      <td>5</td>\n",
       "      <td>1</td>\n",
       "      <td>1</td>\n",
       "      <td>3</td>\n",
       "      <td>1</td>\n",
       "      <td>0</td>\n",
       "    </tr>\n",
       "    <tr>\n",
       "      <th>www.foxnews.com</th>\n",
       "      <td>3</td>\n",
       "      <td>6</td>\n",
       "      <td>3</td>\n",
       "      <td>0</td>\n",
       "      <td>2</td>\n",
       "      <td>4</td>\n",
       "      <td>1</td>\n",
       "      <td>0</td>\n",
       "      <td>0</td>\n",
       "      <td>0</td>\n",
       "    </tr>\n",
       "    <tr>\n",
       "      <th>www.npr.org</th>\n",
       "      <td>2</td>\n",
       "      <td>10</td>\n",
       "      <td>1</td>\n",
       "      <td>0</td>\n",
       "      <td>2</td>\n",
       "      <td>1</td>\n",
       "      <td>1</td>\n",
       "      <td>3</td>\n",
       "      <td>0</td>\n",
       "      <td>1</td>\n",
       "    </tr>\n",
       "    <tr>\n",
       "      <th>www.politico.com</th>\n",
       "      <td>0</td>\n",
       "      <td>0</td>\n",
       "      <td>0</td>\n",
       "      <td>0</td>\n",
       "      <td>0</td>\n",
       "      <td>0</td>\n",
       "      <td>2</td>\n",
       "      <td>1</td>\n",
       "      <td>2</td>\n",
       "      <td>3</td>\n",
       "    </tr>\n",
       "    <tr>\n",
       "      <th>www.usatoday.com</th>\n",
       "      <td>0</td>\n",
       "      <td>3</td>\n",
       "      <td>0</td>\n",
       "      <td>1</td>\n",
       "      <td>1</td>\n",
       "      <td>0</td>\n",
       "      <td>0</td>\n",
       "      <td>2</td>\n",
       "      <td>3</td>\n",
       "      <td>4</td>\n",
       "    </tr>\n",
       "    <tr>\n",
       "      <th>www.washingtonpost.com</th>\n",
       "      <td>5</td>\n",
       "      <td>2</td>\n",
       "      <td>1</td>\n",
       "      <td>1</td>\n",
       "      <td>0</td>\n",
       "      <td>0</td>\n",
       "      <td>0</td>\n",
       "      <td>0</td>\n",
       "      <td>0</td>\n",
       "      <td>2</td>\n",
       "    </tr>\n",
       "  </tbody>\n",
       "</table>\n",
       "</div>"
      ],
      "text/plain": [
       "story_position          1   2   3   4   5   6   7   8   9   10\n",
       "domain                                                        \n",
       "abcnews.go.com           5   0   1   0   1   0   1   1   0   1\n",
       "nypost.com               0   2   3   1   3   1   0   0   5   1\n",
       "www.bbc.com              1   1   0   0   0   2   0   2   2   0\n",
       "www.cbsnews.com          1   2   7   1   0   0   0   1   0   0\n",
       "www.cnn.com             19   8   6   5   5   1   1   3   1   0\n",
       "www.foxnews.com          3   6   3   0   2   4   1   0   0   0\n",
       "www.npr.org              2  10   1   0   2   1   1   3   0   1\n",
       "www.politico.com         0   0   0   0   0   0   2   1   2   3\n",
       "www.usatoday.com         0   3   0   1   1   0   0   2   3   4\n",
       "www.washingtonpost.com   5   2   1   1   0   0   0   0   0   2"
      ]
     },
     "execution_count": 42,
     "metadata": {},
     "output_type": "execute_result"
    }
   ],
   "source": [
    "# First, let's create the pivot table to count each domain occurrence by position\n",
    "\n",
    "dfFinal = dfSmall[['domain', 'story_position']] # work with a two-column dataframe\n",
    "\n",
    "pivotDF = dfFinal.pivot_table(index='domain', columns='story_position', \n",
    "                              aggfunc='size',fill_value=0)\n",
    "pivotDF.head(10)"
   ]
  },
  {
   "cell_type": "markdown",
   "id": "0327276f-9197-4a53-ae8a-1351a646a499",
   "metadata": {},
   "source": [
    "Now that we have a dataframe, let's normalize the rows by dividing each cell in a column by the sum of values of that row:"
   ]
  },
  {
   "cell_type": "code",
   "execution_count": 43,
   "id": "99bb6b82-65e2-481f-ac04-33b767c97815",
   "metadata": {},
   "outputs": [
    {
     "data": {
      "text/html": [
       "<div>\n",
       "<style scoped>\n",
       "    .dataframe tbody tr th:only-of-type {\n",
       "        vertical-align: middle;\n",
       "    }\n",
       "\n",
       "    .dataframe tbody tr th {\n",
       "        vertical-align: top;\n",
       "    }\n",
       "\n",
       "    .dataframe thead th {\n",
       "        text-align: right;\n",
       "    }\n",
       "</style>\n",
       "<table border=\"1\" class=\"dataframe\">\n",
       "  <thead>\n",
       "    <tr style=\"text-align: right;\">\n",
       "      <th>story_position</th>\n",
       "      <th>1</th>\n",
       "      <th>2</th>\n",
       "      <th>3</th>\n",
       "      <th>4</th>\n",
       "      <th>5</th>\n",
       "      <th>6</th>\n",
       "      <th>7</th>\n",
       "      <th>8</th>\n",
       "      <th>9</th>\n",
       "      <th>10</th>\n",
       "    </tr>\n",
       "    <tr>\n",
       "      <th>domain</th>\n",
       "      <th></th>\n",
       "      <th></th>\n",
       "      <th></th>\n",
       "      <th></th>\n",
       "      <th></th>\n",
       "      <th></th>\n",
       "      <th></th>\n",
       "      <th></th>\n",
       "      <th></th>\n",
       "      <th></th>\n",
       "    </tr>\n",
       "  </thead>\n",
       "  <tbody>\n",
       "    <tr>\n",
       "      <th>abcnews.go.com</th>\n",
       "      <td>0.500000</td>\n",
       "      <td>0.000000</td>\n",
       "      <td>0.100000</td>\n",
       "      <td>0.000000</td>\n",
       "      <td>0.100000</td>\n",
       "      <td>0.000000</td>\n",
       "      <td>0.100000</td>\n",
       "      <td>0.100000</td>\n",
       "      <td>0.000000</td>\n",
       "      <td>0.100000</td>\n",
       "    </tr>\n",
       "    <tr>\n",
       "      <th>nypost.com</th>\n",
       "      <td>0.000000</td>\n",
       "      <td>0.125000</td>\n",
       "      <td>0.187500</td>\n",
       "      <td>0.062500</td>\n",
       "      <td>0.187500</td>\n",
       "      <td>0.062500</td>\n",
       "      <td>0.000000</td>\n",
       "      <td>0.000000</td>\n",
       "      <td>0.312500</td>\n",
       "      <td>0.062500</td>\n",
       "    </tr>\n",
       "    <tr>\n",
       "      <th>www.bbc.com</th>\n",
       "      <td>0.125000</td>\n",
       "      <td>0.125000</td>\n",
       "      <td>0.000000</td>\n",
       "      <td>0.000000</td>\n",
       "      <td>0.000000</td>\n",
       "      <td>0.250000</td>\n",
       "      <td>0.000000</td>\n",
       "      <td>0.250000</td>\n",
       "      <td>0.250000</td>\n",
       "      <td>0.000000</td>\n",
       "    </tr>\n",
       "    <tr>\n",
       "      <th>www.cbsnews.com</th>\n",
       "      <td>0.083333</td>\n",
       "      <td>0.166667</td>\n",
       "      <td>0.583333</td>\n",
       "      <td>0.083333</td>\n",
       "      <td>0.000000</td>\n",
       "      <td>0.000000</td>\n",
       "      <td>0.000000</td>\n",
       "      <td>0.083333</td>\n",
       "      <td>0.000000</td>\n",
       "      <td>0.000000</td>\n",
       "    </tr>\n",
       "    <tr>\n",
       "      <th>www.cnn.com</th>\n",
       "      <td>0.387755</td>\n",
       "      <td>0.163265</td>\n",
       "      <td>0.122449</td>\n",
       "      <td>0.102041</td>\n",
       "      <td>0.102041</td>\n",
       "      <td>0.020408</td>\n",
       "      <td>0.020408</td>\n",
       "      <td>0.061224</td>\n",
       "      <td>0.020408</td>\n",
       "      <td>0.000000</td>\n",
       "    </tr>\n",
       "    <tr>\n",
       "      <th>www.foxnews.com</th>\n",
       "      <td>0.157895</td>\n",
       "      <td>0.315789</td>\n",
       "      <td>0.157895</td>\n",
       "      <td>0.000000</td>\n",
       "      <td>0.105263</td>\n",
       "      <td>0.210526</td>\n",
       "      <td>0.052632</td>\n",
       "      <td>0.000000</td>\n",
       "      <td>0.000000</td>\n",
       "      <td>0.000000</td>\n",
       "    </tr>\n",
       "    <tr>\n",
       "      <th>www.npr.org</th>\n",
       "      <td>0.095238</td>\n",
       "      <td>0.476190</td>\n",
       "      <td>0.047619</td>\n",
       "      <td>0.000000</td>\n",
       "      <td>0.095238</td>\n",
       "      <td>0.047619</td>\n",
       "      <td>0.047619</td>\n",
       "      <td>0.142857</td>\n",
       "      <td>0.000000</td>\n",
       "      <td>0.047619</td>\n",
       "    </tr>\n",
       "    <tr>\n",
       "      <th>www.politico.com</th>\n",
       "      <td>0.000000</td>\n",
       "      <td>0.000000</td>\n",
       "      <td>0.000000</td>\n",
       "      <td>0.000000</td>\n",
       "      <td>0.000000</td>\n",
       "      <td>0.000000</td>\n",
       "      <td>0.250000</td>\n",
       "      <td>0.125000</td>\n",
       "      <td>0.250000</td>\n",
       "      <td>0.375000</td>\n",
       "    </tr>\n",
       "    <tr>\n",
       "      <th>www.usatoday.com</th>\n",
       "      <td>0.000000</td>\n",
       "      <td>0.214286</td>\n",
       "      <td>0.000000</td>\n",
       "      <td>0.071429</td>\n",
       "      <td>0.071429</td>\n",
       "      <td>0.000000</td>\n",
       "      <td>0.000000</td>\n",
       "      <td>0.142857</td>\n",
       "      <td>0.214286</td>\n",
       "      <td>0.285714</td>\n",
       "    </tr>\n",
       "    <tr>\n",
       "      <th>www.washingtonpost.com</th>\n",
       "      <td>0.454545</td>\n",
       "      <td>0.181818</td>\n",
       "      <td>0.090909</td>\n",
       "      <td>0.090909</td>\n",
       "      <td>0.000000</td>\n",
       "      <td>0.000000</td>\n",
       "      <td>0.000000</td>\n",
       "      <td>0.000000</td>\n",
       "      <td>0.000000</td>\n",
       "      <td>0.181818</td>\n",
       "    </tr>\n",
       "  </tbody>\n",
       "</table>\n",
       "</div>"
      ],
      "text/plain": [
       "story_position                1         2         3         4         5   \\\n",
       "domain                                                                     \n",
       "abcnews.go.com          0.500000  0.000000  0.100000  0.000000  0.100000   \n",
       "nypost.com              0.000000  0.125000  0.187500  0.062500  0.187500   \n",
       "www.bbc.com             0.125000  0.125000  0.000000  0.000000  0.000000   \n",
       "www.cbsnews.com         0.083333  0.166667  0.583333  0.083333  0.000000   \n",
       "www.cnn.com             0.387755  0.163265  0.122449  0.102041  0.102041   \n",
       "www.foxnews.com         0.157895  0.315789  0.157895  0.000000  0.105263   \n",
       "www.npr.org             0.095238  0.476190  0.047619  0.000000  0.095238   \n",
       "www.politico.com        0.000000  0.000000  0.000000  0.000000  0.000000   \n",
       "www.usatoday.com        0.000000  0.214286  0.000000  0.071429  0.071429   \n",
       "www.washingtonpost.com  0.454545  0.181818  0.090909  0.090909  0.000000   \n",
       "\n",
       "story_position                6         7         8         9         10  \n",
       "domain                                                                    \n",
       "abcnews.go.com          0.000000  0.100000  0.100000  0.000000  0.100000  \n",
       "nypost.com              0.062500  0.000000  0.000000  0.312500  0.062500  \n",
       "www.bbc.com             0.250000  0.000000  0.250000  0.250000  0.000000  \n",
       "www.cbsnews.com         0.000000  0.000000  0.083333  0.000000  0.000000  \n",
       "www.cnn.com             0.020408  0.020408  0.061224  0.020408  0.000000  \n",
       "www.foxnews.com         0.210526  0.052632  0.000000  0.000000  0.000000  \n",
       "www.npr.org             0.047619  0.047619  0.142857  0.000000  0.047619  \n",
       "www.politico.com        0.000000  0.250000  0.125000  0.250000  0.375000  \n",
       "www.usatoday.com        0.000000  0.000000  0.142857  0.214286  0.285714  \n",
       "www.washingtonpost.com  0.000000  0.000000  0.000000  0.000000  0.181818  "
      ]
     },
     "execution_count": 43,
     "metadata": {},
     "output_type": "execute_result"
    }
   ],
   "source": [
    "normalized = pivotDF.div(pivotDF.sum(axis=1), # first generate the sum of values in each row\n",
    "                         axis=0) # then divide all cells in a colum, by the corresponding sum\n",
    "normalized"
   ]
  },
  {
   "cell_type": "markdown",
   "id": "c5e6bea3-8dcf-4a2d-99f9-ec4ce0b35001",
   "metadata": {},
   "source": [
    "Now that the data is ready, we can create the heatmap, providing some additional instructions to make it look good:"
   ]
  },
  {
   "cell_type": "code",
   "execution_count": 44,
   "id": "214926a7-9164-4808-aa9d-632f9723e03e",
   "metadata": {},
   "outputs": [
    {
     "data": {
      "image/png": "[encoded data removed]",
      "text/plain": [
       "<Figure size 800x400 with 2 Axes>"
      ]
     },
     "metadata": {},
     "output_type": "display_data"
    }
   ],
   "source": [
    "# Create a heatmap\n",
    "plt.figure(figsize=(8, 4))\n",
    "sns.set(font_scale=1.2)  # Adjust font size\n",
    "sns.heatmap(normalized, \n",
    "            cmap='BuGn', # set color map Blue to Green\n",
    "            annot=False, # do not show the numerical values in each cell\n",
    "            linewidths=0.5) # width of lines that separate the cells in the map\n",
    "\n",
    "# We are directly setting the properties of the current axes, without explicitely referring to it as we did in the barplot image\n",
    "plt.xlabel('Story position', fontsize=10)\n",
    "plt.ylabel('Domain', fontsize=10)\n",
    "plt.title('Proportion of Top 10 Domains by Position', fontsize=12)\n",
    "\n",
    "plt.tight_layout()\n",
    "plt.show()"
   ]
  },
  {
   "cell_type": "markdown",
   "id": "e5aad6c1-5394-4fa1-aa01-10f4589db1c5",
   "metadata": {},
   "source": [
    "**Questions:** Given this visualization, how can we answer our starting question: Are all news sources equally likely to show up in all positions?  \n",
    "Furthermore, what does this tell us about Google's algorithms?"
   ]
  },
  {
   "cell_type": "markdown",
   "id": "7978a2bb-4d91-408b-91b0-0c6ef252b606",
   "metadata": {},
   "source": [
    "**Your Answer:**\n",
    "This heatmap helps us arrive at the conclusion: no. We see that for cbs news, the data at Story Position 3 and 0.4 is vastly different from when compared with the value of foxnews at Story Position 2. The distribution across the heatmap shows varying colors, demonstrating that the distributions isn't equal/consistent across all news platforms"
   ]
  },
  {
   "cell_type": "markdown",
   "id": "f3606f9e-bbdd-427a-9311-a67a058b337f",
   "metadata": {},
   "source": [
    "<a id=\"sec5\"></a>\n",
    "## 5. Timeseries of monthly unique articles organized by query type\n",
    "\n",
    "From prior experience in working with Google Top Stories data, I know that some articles show up multiple times during the day or over a few days. We can verify this through code:"
   ]
  },
  {
   "cell_type": "code",
   "execution_count": 45,
   "id": "28f7a83e-d36e-4200-89e1-5a3f4a2adf18",
   "metadata": {},
   "outputs": [
    {
     "data": {
      "text/plain": [
       "False"
      ]
     },
     "execution_count": 45,
     "metadata": {},
     "output_type": "execute_result"
    }
   ],
   "source": [
    "df.url.unique().size == df.url.size # compare sizes"
   ]
  },
  {
   "cell_type": "markdown",
   "id": "933b8758-a119-4fa2-b8d1-9f6ecb746e5d",
   "metadata": {},
   "source": [
    "Print the sizes to compare unique url to the total urls:"
   ]
  },
  {
   "cell_type": "code",
   "execution_count": 46,
   "id": "d0066478-be70-4613-a834-1f12d6dfc1a2",
   "metadata": {},
   "outputs": [
    {
     "name": "stdout",
     "output_type": "stream",
     "text": [
      "Unique: 294, Total: 352\n"
     ]
    }
   ],
   "source": [
    "print(f\"Unique: {df.url.unique().size}, Total: {df.url.size}\")"
   ]
  },
  {
   "cell_type": "markdown",
   "id": "ec291001-f705-4115-9dcd-bc2d3c74674b",
   "metadata": {},
   "source": [
    "**Your Task: Domains and Sources**  \n",
    "Throughout the notebook, we worked with the domain column, instead of source. \n",
    "1. Check if these two columns have the same size in terms of unique values.\n",
    "2. What is the size of unique values for each of them?\n",
    "3. Speculate about the reason for the divergence between the two columns."
   ]
  },
  {
   "cell_type": "markdown",
   "id": "cc79a0a6-e402-496e-8399-fdafd2eb9da9",
   "metadata": {},
   "source": [
    "**Your exploration**"
   ]
  },
  {
   "cell_type": "code",
   "execution_count": 50,
   "id": "5c997916-d497-4cfd-be68-63d470ecc127",
   "metadata": {},
   "outputs": [
    {
     "data": {
      "text/html": [
       "<div>\n",
       "<style scoped>\n",
       "    .dataframe tbody tr th:only-of-type {\n",
       "        vertical-align: middle;\n",
       "    }\n",
       "\n",
       "    .dataframe tbody tr th {\n",
       "        vertical-align: top;\n",
       "    }\n",
       "\n",
       "    .dataframe thead th {\n",
       "        text-align: right;\n",
       "    }\n",
       "</style>\n",
       "<table border=\"1\" class=\"dataframe\">\n",
       "  <thead>\n",
       "    <tr style=\"text-align: right;\">\n",
       "      <th></th>\n",
       "      <th>source</th>\n",
       "      <th>count</th>\n",
       "    </tr>\n",
       "  </thead>\n",
       "  <tbody>\n",
       "    <tr>\n",
       "      <th>0</th>\n",
       "      <td>CNN.com</td>\n",
       "      <td>49</td>\n",
       "    </tr>\n",
       "    <tr>\n",
       "      <th>1</th>\n",
       "      <td>NPR</td>\n",
       "      <td>21</td>\n",
       "    </tr>\n",
       "    <tr>\n",
       "      <th>2</th>\n",
       "      <td>Fox News</td>\n",
       "      <td>19</td>\n",
       "    </tr>\n",
       "    <tr>\n",
       "      <th>3</th>\n",
       "      <td>New York Post</td>\n",
       "      <td>16</td>\n",
       "    </tr>\n",
       "    <tr>\n",
       "      <th>4</th>\n",
       "      <td>CBS News</td>\n",
       "      <td>12</td>\n",
       "    </tr>\n",
       "    <tr>\n",
       "      <th>5</th>\n",
       "      <td>Washington Post</td>\n",
       "      <td>11</td>\n",
       "    </tr>\n",
       "    <tr>\n",
       "      <th>6</th>\n",
       "      <td>ABC News</td>\n",
       "      <td>10</td>\n",
       "    </tr>\n",
       "    <tr>\n",
       "      <th>7</th>\n",
       "      <td>Politico</td>\n",
       "      <td>8</td>\n",
       "    </tr>\n",
       "    <tr>\n",
       "      <th>8</th>\n",
       "      <td>USA Today</td>\n",
       "      <td>8</td>\n",
       "    </tr>\n",
       "    <tr>\n",
       "      <th>9</th>\n",
       "      <td>NBC News</td>\n",
       "      <td>7</td>\n",
       "    </tr>\n",
       "  </tbody>\n",
       "</table>\n",
       "</div>"
      ],
      "text/plain": [
       "            source  count\n",
       "0          CNN.com     49\n",
       "1              NPR     21\n",
       "2         Fox News     19\n",
       "3    New York Post     16\n",
       "4         CBS News     12\n",
       "5  Washington Post     11\n",
       "6         ABC News     10\n",
       "7         Politico      8\n",
       "8        USA Today      8\n",
       "9         NBC News      7"
      ]
     },
     "execution_count": 50,
     "metadata": {},
     "output_type": "execute_result"
    }
   ],
   "source": [
    "sourceCounts = df['source'].value_counts()[:10]\n",
    "data3 = sourceCounts.reset_index(name='count')\n",
    "data3"
   ]
  },
  {
   "cell_type": "code",
   "execution_count": 51,
   "id": "956522da-88a9-4874-b5a8-fbde3aedb0d2",
   "metadata": {},
   "outputs": [
    {
     "data": {
      "text/html": [
       "<div>\n",
       "<style scoped>\n",
       "    .dataframe tbody tr th:only-of-type {\n",
       "        vertical-align: middle;\n",
       "    }\n",
       "\n",
       "    .dataframe tbody tr th {\n",
       "        vertical-align: top;\n",
       "    }\n",
       "\n",
       "    .dataframe thead th {\n",
       "        text-align: right;\n",
       "    }\n",
       "</style>\n",
       "<table border=\"1\" class=\"dataframe\">\n",
       "  <thead>\n",
       "    <tr style=\"text-align: right;\">\n",
       "      <th></th>\n",
       "      <th>domain</th>\n",
       "      <th>count</th>\n",
       "    </tr>\n",
       "  </thead>\n",
       "  <tbody>\n",
       "    <tr>\n",
       "      <th>0</th>\n",
       "      <td>www.cnn.com</td>\n",
       "      <td>49</td>\n",
       "    </tr>\n",
       "    <tr>\n",
       "      <th>1</th>\n",
       "      <td>www.npr.org</td>\n",
       "      <td>21</td>\n",
       "    </tr>\n",
       "    <tr>\n",
       "      <th>2</th>\n",
       "      <td>www.foxnews.com</td>\n",
       "      <td>19</td>\n",
       "    </tr>\n",
       "    <tr>\n",
       "      <th>3</th>\n",
       "      <td>nypost.com</td>\n",
       "      <td>16</td>\n",
       "    </tr>\n",
       "    <tr>\n",
       "      <th>4</th>\n",
       "      <td>www.usatoday.com</td>\n",
       "      <td>14</td>\n",
       "    </tr>\n",
       "    <tr>\n",
       "      <th>5</th>\n",
       "      <td>www.cbsnews.com</td>\n",
       "      <td>12</td>\n",
       "    </tr>\n",
       "    <tr>\n",
       "      <th>6</th>\n",
       "      <td>www.washingtonpost.com</td>\n",
       "      <td>11</td>\n",
       "    </tr>\n",
       "    <tr>\n",
       "      <th>7</th>\n",
       "      <td>abcnews.go.com</td>\n",
       "      <td>10</td>\n",
       "    </tr>\n",
       "    <tr>\n",
       "      <th>8</th>\n",
       "      <td>www.politico.com</td>\n",
       "      <td>8</td>\n",
       "    </tr>\n",
       "    <tr>\n",
       "      <th>9</th>\n",
       "      <td>www.bbc.com</td>\n",
       "      <td>8</td>\n",
       "    </tr>\n",
       "  </tbody>\n",
       "</table>\n",
       "</div>"
      ],
      "text/plain": [
       "                   domain  count\n",
       "0             www.cnn.com     49\n",
       "1             www.npr.org     21\n",
       "2         www.foxnews.com     19\n",
       "3              nypost.com     16\n",
       "4        www.usatoday.com     14\n",
       "5         www.cbsnews.com     12\n",
       "6  www.washingtonpost.com     11\n",
       "7          abcnews.go.com     10\n",
       "8        www.politico.com      8\n",
       "9             www.bbc.com      8"
      ]
     },
     "execution_count": 51,
     "metadata": {},
     "output_type": "execute_result"
    }
   ],
   "source": [
    "domainCounts = df['domain'].value_counts()[:10]\n",
    "data = domainCounts.reset_index(name='count')\n",
    "data"
   ]
  },
  {
   "cell_type": "code",
   "execution_count": null,
   "id": "5a09fae5-300a-497f-9d30-494499604ff2",
   "metadata": {},
   "outputs": [],
   "source": [
    "Yes, the values are different. We see different values USA Today. For source count, it's 8 but domain count is 14. There are also differing values for ABC News with domain count as 10 and source count as 10. "
   ]
  },
  {
   "cell_type": "markdown",
   "id": "19540749-cd9c-4278-8c8f-99d1ca80de35",
   "metadata": {},
   "source": [
    "### Focus on unique articles"
   ]
  },
  {
   "cell_type": "markdown",
   "id": "e9c4f648-ae3c-4dfe-a8e9-b27ec555d75d",
   "metadata": {},
   "source": [
    "Let's start by dropping all the rows that have repeating URLs, however, we will first sort the rows, so that they are in the order of publication."
   ]
  },
  {
   "cell_type": "code",
   "execution_count": 52,
   "id": "5d7212ea-8bef-493f-b2be-cd44df5b0033",
   "metadata": {},
   "outputs": [
    {
     "data": {
      "text/html": [
       "<div>\n",
       "<style scoped>\n",
       "    .dataframe tbody tr th:only-of-type {\n",
       "        vertical-align: middle;\n",
       "    }\n",
       "\n",
       "    .dataframe tbody tr th {\n",
       "        vertical-align: top;\n",
       "    }\n",
       "\n",
       "    .dataframe thead th {\n",
       "        text-align: right;\n",
       "    }\n",
       "</style>\n",
       "<table border=\"1\" class=\"dataframe\">\n",
       "  <thead>\n",
       "    <tr style=\"text-align: right;\">\n",
       "      <th></th>\n",
       "      <th>title</th>\n",
       "      <th>url</th>\n",
       "      <th>source</th>\n",
       "      <th>time</th>\n",
       "      <th>date</th>\n",
       "      <th>query</th>\n",
       "      <th>story_position</th>\n",
       "      <th>domain</th>\n",
       "      <th>category</th>\n",
       "      <th>domain2</th>\n",
       "      <th>wordCount</th>\n",
       "    </tr>\n",
       "  </thead>\n",
       "  <tbody>\n",
       "    <tr>\n",
       "      <th>351</th>\n",
       "      <td>CDC adds 6 new possible coronavirus symptoms</td>\n",
       "      <td>https://www.ktvq.com/news/coronavirus/cdc-adds...</td>\n",
       "      <td>KTVQ.com</td>\n",
       "      <td>2 hours ago</td>\n",
       "      <td>2020-04-25 22:00:00</td>\n",
       "      <td>coronavirus symptoms</td>\n",
       "      <td>3</td>\n",
       "      <td>www.ktvq.com</td>\n",
       "      <td>NaN</td>\n",
       "      <td>www.ktvq.com</td>\n",
       "      <td>7</td>\n",
       "    </tr>\n",
       "    <tr>\n",
       "      <th>323</th>\n",
       "      <td>Coronavirus daily news updates, April 25: What...</td>\n",
       "      <td>https://www.seattletimes.com/seattle-news/heal...</td>\n",
       "      <td>The Seattle Times</td>\n",
       "      <td>10 hours ago</td>\n",
       "      <td>2020-04-25 22:00:00</td>\n",
       "      <td>Covid-19</td>\n",
       "      <td>1</td>\n",
       "      <td>www.seattletimes.com</td>\n",
       "      <td>NaN</td>\n",
       "      <td>www.seattletimes.com</td>\n",
       "      <td>21</td>\n",
       "    </tr>\n",
       "    <tr>\n",
       "      <th>324</th>\n",
       "      <td>The one ritual keeping me sane during Covid-19</td>\n",
       "      <td>https://www.cnn.com/2020/04/25/opinions/covid-...</td>\n",
       "      <td>CNN.com</td>\n",
       "      <td>13 hours ago</td>\n",
       "      <td>2020-04-25 22:00:00</td>\n",
       "      <td>Covid-19</td>\n",
       "      <td>2</td>\n",
       "      <td>www.cnn.com</td>\n",
       "      <td>NaN</td>\n",
       "      <td>www.cnn.com</td>\n",
       "      <td>8</td>\n",
       "    </tr>\n",
       "    <tr>\n",
       "      <th>325</th>\n",
       "      <td>Dyson Built a New Ventilator to Treat Covid-19...</td>\n",
       "      <td>https://gizmodo.com/dyson-built-a-new-ventilat...</td>\n",
       "      <td>Gizmodo</td>\n",
       "      <td>44 mins ago</td>\n",
       "      <td>2020-04-25 22:00:00</td>\n",
       "      <td>Covid-19</td>\n",
       "      <td>3</td>\n",
       "      <td>gizmodo.com</td>\n",
       "      <td>NaN</td>\n",
       "      <td>gizmodo.com</td>\n",
       "      <td>18</td>\n",
       "    </tr>\n",
       "    <tr>\n",
       "      <th>326</th>\n",
       "      <td>Covid-19 research should include studies on ho...</td>\n",
       "      <td>https://www.cnn.com/2020/04/25/opinions/corona...</td>\n",
       "      <td>CNN.com</td>\n",
       "      <td>1 hour ago</td>\n",
       "      <td>2020-04-25 22:00:00</td>\n",
       "      <td>Covid-19</td>\n",
       "      <td>4</td>\n",
       "      <td>www.cnn.com</td>\n",
       "      <td>NaN</td>\n",
       "      <td>www.cnn.com</td>\n",
       "      <td>11</td>\n",
       "    </tr>\n",
       "  </tbody>\n",
       "</table>\n",
       "</div>"
      ],
      "text/plain": [
       "                                                 title  \\\n",
       "351       CDC adds 6 new possible coronavirus symptoms   \n",
       "323  Coronavirus daily news updates, April 25: What...   \n",
       "324     The one ritual keeping me sane during Covid-19   \n",
       "325  Dyson Built a New Ventilator to Treat Covid-19...   \n",
       "326  Covid-19 research should include studies on ho...   \n",
       "\n",
       "                                                   url             source  \\\n",
       "351  https://www.ktvq.com/news/coronavirus/cdc-adds...           KTVQ.com   \n",
       "323  https://www.seattletimes.com/seattle-news/heal...  The Seattle Times   \n",
       "324  https://www.cnn.com/2020/04/25/opinions/covid-...            CNN.com   \n",
       "325  https://gizmodo.com/dyson-built-a-new-ventilat...            Gizmodo   \n",
       "326  https://www.cnn.com/2020/04/25/opinions/corona...            CNN.com   \n",
       "\n",
       "             time                 date                 query  story_position  \\\n",
       "351   2 hours ago  2020-04-25 22:00:00  coronavirus symptoms               3   \n",
       "323  10 hours ago  2020-04-25 22:00:00              Covid-19               1   \n",
       "324  13 hours ago  2020-04-25 22:00:00              Covid-19               2   \n",
       "325   44 mins ago  2020-04-25 22:00:00              Covid-19               3   \n",
       "326    1 hour ago  2020-04-25 22:00:00              Covid-19               4   \n",
       "\n",
       "                   domain category               domain2  wordCount  \n",
       "351          www.ktvq.com      NaN          www.ktvq.com          7  \n",
       "323  www.seattletimes.com      NaN  www.seattletimes.com         21  \n",
       "324           www.cnn.com      NaN           www.cnn.com          8  \n",
       "325           gizmodo.com      NaN           gizmodo.com         18  \n",
       "326           www.cnn.com      NaN           www.cnn.com         11  "
      ]
     },
     "execution_count": 52,
     "metadata": {},
     "output_type": "execute_result"
    }
   ],
   "source": [
    "df.sort_values(by=['date'], inplace=True)\n",
    "df.head()"
   ]
  },
  {
   "cell_type": "markdown",
   "id": "3c2446cc-6943-4f29-9e32-3d23809a1108",
   "metadata": {},
   "source": [
    "We can see from the indices (they don't start at 0 any longer) that the rows were sorted. Let's drop the duplicate URLs:"
   ]
  },
  {
   "cell_type": "code",
   "execution_count": 53,
   "id": "4f859e80-489f-4a83-abf6-67328e087a19",
   "metadata": {},
   "outputs": [
    {
     "data": {
      "text/plain": [
       "(294, 11)"
      ]
     },
     "execution_count": 53,
     "metadata": {},
     "output_type": "execute_result"
    }
   ],
   "source": [
    "dfUnique = df.drop_duplicates(subset=['url']) \n",
    "dfUnique.shape"
   ]
  },
  {
   "cell_type": "markdown",
   "id": "1279a44b-7932-4985-9657-0aab7f265e43",
   "metadata": {},
   "source": [
    "I will create a new column, year-month, since the date field is too granular. [**Note**: Read more about this at the end of the notebook.]"
   ]
  },
  {
   "cell_type": "code",
   "execution_count": 55,
   "id": "1abf2590-90ef-42f3-b01c-3356aa0342bc",
   "metadata": {},
   "outputs": [
    {
     "data": {
      "text/html": [
       "<div>\n",
       "<style scoped>\n",
       "    .dataframe tbody tr th:only-of-type {\n",
       "        vertical-align: middle;\n",
       "    }\n",
       "\n",
       "    .dataframe tbody tr th {\n",
       "        vertical-align: top;\n",
       "    }\n",
       "\n",
       "    .dataframe thead th {\n",
       "        text-align: right;\n",
       "    }\n",
       "</style>\n",
       "<table border=\"1\" class=\"dataframe\">\n",
       "  <thead>\n",
       "    <tr style=\"text-align: right;\">\n",
       "      <th></th>\n",
       "      <th>title</th>\n",
       "      <th>url</th>\n",
       "      <th>source</th>\n",
       "      <th>time</th>\n",
       "      <th>date</th>\n",
       "      <th>query</th>\n",
       "      <th>story_position</th>\n",
       "      <th>domain</th>\n",
       "      <th>category</th>\n",
       "      <th>domain2</th>\n",
       "      <th>wordCount</th>\n",
       "    </tr>\n",
       "  </thead>\n",
       "  <tbody>\n",
       "    <tr>\n",
       "      <th>351</th>\n",
       "      <td>CDC adds 6 new possible coronavirus symptoms</td>\n",
       "      <td>https://www.ktvq.com/news/coronavirus/cdc-adds...</td>\n",
       "      <td>KTVQ.com</td>\n",
       "      <td>2 hours ago</td>\n",
       "      <td>2020-04-25 22:00:00</td>\n",
       "      <td>coronavirus symptoms</td>\n",
       "      <td>3</td>\n",
       "      <td>www.ktvq.com</td>\n",
       "      <td>NaN</td>\n",
       "      <td>www.ktvq.com</td>\n",
       "      <td>7</td>\n",
       "    </tr>\n",
       "    <tr>\n",
       "      <th>323</th>\n",
       "      <td>Coronavirus daily news updates, April 25: What...</td>\n",
       "      <td>https://www.seattletimes.com/seattle-news/heal...</td>\n",
       "      <td>The Seattle Times</td>\n",
       "      <td>10 hours ago</td>\n",
       "      <td>2020-04-25 22:00:00</td>\n",
       "      <td>Covid-19</td>\n",
       "      <td>1</td>\n",
       "      <td>www.seattletimes.com</td>\n",
       "      <td>NaN</td>\n",
       "      <td>www.seattletimes.com</td>\n",
       "      <td>21</td>\n",
       "    </tr>\n",
       "    <tr>\n",
       "      <th>324</th>\n",
       "      <td>The one ritual keeping me sane during Covid-19</td>\n",
       "      <td>https://www.cnn.com/2020/04/25/opinions/covid-...</td>\n",
       "      <td>CNN.com</td>\n",
       "      <td>13 hours ago</td>\n",
       "      <td>2020-04-25 22:00:00</td>\n",
       "      <td>Covid-19</td>\n",
       "      <td>2</td>\n",
       "      <td>www.cnn.com</td>\n",
       "      <td>NaN</td>\n",
       "      <td>www.cnn.com</td>\n",
       "      <td>8</td>\n",
       "    </tr>\n",
       "    <tr>\n",
       "      <th>325</th>\n",
       "      <td>Dyson Built a New Ventilator to Treat Covid-19...</td>\n",
       "      <td>https://gizmodo.com/dyson-built-a-new-ventilat...</td>\n",
       "      <td>Gizmodo</td>\n",
       "      <td>44 mins ago</td>\n",
       "      <td>2020-04-25 22:00:00</td>\n",
       "      <td>Covid-19</td>\n",
       "      <td>3</td>\n",
       "      <td>gizmodo.com</td>\n",
       "      <td>NaN</td>\n",
       "      <td>gizmodo.com</td>\n",
       "      <td>18</td>\n",
       "    </tr>\n",
       "    <tr>\n",
       "      <th>326</th>\n",
       "      <td>Covid-19 research should include studies on ho...</td>\n",
       "      <td>https://www.cnn.com/2020/04/25/opinions/corona...</td>\n",
       "      <td>CNN.com</td>\n",
       "      <td>1 hour ago</td>\n",
       "      <td>2020-04-25 22:00:00</td>\n",
       "      <td>Covid-19</td>\n",
       "      <td>4</td>\n",
       "      <td>www.cnn.com</td>\n",
       "      <td>NaN</td>\n",
       "      <td>www.cnn.com</td>\n",
       "      <td>11</td>\n",
       "    </tr>\n",
       "  </tbody>\n",
       "</table>\n",
       "</div>"
      ],
      "text/plain": [
       "                                                 title  \\\n",
       "351       CDC adds 6 new possible coronavirus symptoms   \n",
       "323  Coronavirus daily news updates, April 25: What...   \n",
       "324     The one ritual keeping me sane during Covid-19   \n",
       "325  Dyson Built a New Ventilator to Treat Covid-19...   \n",
       "326  Covid-19 research should include studies on ho...   \n",
       "\n",
       "                                                   url             source  \\\n",
       "351  https://www.ktvq.com/news/coronavirus/cdc-adds...           KTVQ.com   \n",
       "323  https://www.seattletimes.com/seattle-news/heal...  The Seattle Times   \n",
       "324  https://www.cnn.com/2020/04/25/opinions/covid-...            CNN.com   \n",
       "325  https://gizmodo.com/dyson-built-a-new-ventilat...            Gizmodo   \n",
       "326  https://www.cnn.com/2020/04/25/opinions/corona...            CNN.com   \n",
       "\n",
       "             time                 date                 query  story_position  \\\n",
       "351   2 hours ago  2020-04-25 22:00:00  coronavirus symptoms               3   \n",
       "323  10 hours ago  2020-04-25 22:00:00              Covid-19               1   \n",
       "324  13 hours ago  2020-04-25 22:00:00              Covid-19               2   \n",
       "325   44 mins ago  2020-04-25 22:00:00              Covid-19               3   \n",
       "326    1 hour ago  2020-04-25 22:00:00              Covid-19               4   \n",
       "\n",
       "                   domain category               domain2  wordCount  \n",
       "351          www.ktvq.com      NaN          www.ktvq.com          7  \n",
       "323  www.seattletimes.com      NaN  www.seattletimes.com         21  \n",
       "324           www.cnn.com      NaN           www.cnn.com          8  \n",
       "325           gizmodo.com      NaN           gizmodo.com         18  \n",
       "326           www.cnn.com      NaN           www.cnn.com         11  "
      ]
     },
     "execution_count": 55,
     "metadata": {},
     "output_type": "execute_result"
    }
   ],
   "source": [
    "def splitDate(row):\n",
    "    \"\"\"return a date in the format YYYY-MM\"\"\"\n",
    "    return row['date'][:7] \n",
    "\n",
    "dfUnique = df.drop_duplicates(subset=['url']).copy()\n",
    "dfUnique.head()"
   ]
  },
  {
   "cell_type": "markdown",
   "id": "f713f273-1709-47d9-89a0-f79267b64eaa",
   "metadata": {},
   "source": [
    "**Important Note:** When running the cell above, some of you might have received the following warning:  \n",
    "A value is trying to be set on a copy of a slice from a DataFrame.\n",
    "\n",
    "When we run the statement `dfUnique = df.drop_duplicates(subset=['url'])` we intended to create a new dataframe. However, pandas warns us because it can't guarantee that dfUnique isn't sharing data with df under the hood due to its optimizations. The longer explanation is that pandas sometimes uses views internally to optimize memory usage. When we perform an operation that could be ambiguous, such as modifying a DataFrame that could potentially be a view of another DataFrame, pandas issues a warning.\n",
    "\n",
    "If we don't want the warning to show, we should explicitely tell pandas make a new copy:\n",
    "\n",
    "`dfUnique = df.drop_duplicates(subset=['url']).copy()`"
   ]
  },
  {
   "cell_type": "markdown",
   "id": "50ffef6f-19bf-4c70-bd42-fb70b99ff4fa",
   "metadata": {},
   "source": [
    "### Pivot Table: counting articles per query\n",
    "\n",
    "Now that each row has a month value, we can create a pivot table to count how many time a query showed in each month."
   ]
  },
  {
   "cell_type": "code",
   "execution_count": 56,
   "id": "f5087619-e887-4a74-aabf-a49466b87390",
   "metadata": {},
   "outputs": [
    {
     "ename": "KeyError",
     "evalue": "'year-month'",
     "output_type": "error",
     "traceback": [
      "\u001b[0;31m---------------------------------------------------------------------------\u001b[0m",
      "\u001b[0;31mKeyError\u001b[0m                                  Traceback (most recent call last)",
      "Cell \u001b[0;32mIn[56], line 1\u001b[0m\n\u001b[0;32m----> 1\u001b[0m queryMonthDF \u001b[38;5;241m=\u001b[39m dfUnique\u001b[38;5;241m.\u001b[39mpivot_table(index\u001b[38;5;241m=\u001b[39m\u001b[38;5;124m\"\u001b[39m\u001b[38;5;124mquery\u001b[39m\u001b[38;5;124m\"\u001b[39m, \n\u001b[1;32m      2\u001b[0m                                     columns\u001b[38;5;241m=\u001b[39m\u001b[38;5;124m\"\u001b[39m\u001b[38;5;124myear-month\u001b[39m\u001b[38;5;124m\"\u001b[39m, \n\u001b[1;32m      3\u001b[0m                                     aggfunc\u001b[38;5;241m=\u001b[39m\u001b[38;5;124m\"\u001b[39m\u001b[38;5;124msize\u001b[39m\u001b[38;5;124m\"\u001b[39m, \n\u001b[1;32m      4\u001b[0m                                     fill_value\u001b[38;5;241m=\u001b[39m\u001b[38;5;241m0\u001b[39m)\n\u001b[1;32m      5\u001b[0m queryMonthDF\u001b[38;5;241m.\u001b[39mhead()\n",
      "File \u001b[0;32m~/miniconda3/lib/python3.11/site-packages/pandas/core/frame.py:9496\u001b[0m, in \u001b[0;36mDataFrame.pivot_table\u001b[0;34m(self, values, index, columns, aggfunc, fill_value, margins, dropna, margins_name, observed, sort)\u001b[0m\n\u001b[1;32m   9479\u001b[0m \u001b[38;5;129m@Substitution\u001b[39m(\u001b[38;5;124m\"\u001b[39m\u001b[38;5;124m\"\u001b[39m)\n\u001b[1;32m   9480\u001b[0m \u001b[38;5;129m@Appender\u001b[39m(_shared_docs[\u001b[38;5;124m\"\u001b[39m\u001b[38;5;124mpivot_table\u001b[39m\u001b[38;5;124m\"\u001b[39m])\n\u001b[1;32m   9481\u001b[0m \u001b[38;5;28;01mdef\u001b[39;00m \u001b[38;5;21mpivot_table\u001b[39m(\n\u001b[0;32m   (...)\u001b[0m\n\u001b[1;32m   9492\u001b[0m     sort: \u001b[38;5;28mbool\u001b[39m \u001b[38;5;241m=\u001b[39m \u001b[38;5;28;01mTrue\u001b[39;00m,\n\u001b[1;32m   9493\u001b[0m ) \u001b[38;5;241m-\u001b[39m\u001b[38;5;241m>\u001b[39m DataFrame:\n\u001b[1;32m   9494\u001b[0m     \u001b[38;5;28;01mfrom\u001b[39;00m \u001b[38;5;21;01mpandas\u001b[39;00m\u001b[38;5;21;01m.\u001b[39;00m\u001b[38;5;21;01mcore\u001b[39;00m\u001b[38;5;21;01m.\u001b[39;00m\u001b[38;5;21;01mreshape\u001b[39;00m\u001b[38;5;21;01m.\u001b[39;00m\u001b[38;5;21;01mpivot\u001b[39;00m \u001b[38;5;28;01mimport\u001b[39;00m pivot_table\n\u001b[0;32m-> 9496\u001b[0m     \u001b[38;5;28;01mreturn\u001b[39;00m pivot_table(\n\u001b[1;32m   9497\u001b[0m         \u001b[38;5;28mself\u001b[39m,\n\u001b[1;32m   9498\u001b[0m         values\u001b[38;5;241m=\u001b[39mvalues,\n\u001b[1;32m   9499\u001b[0m         index\u001b[38;5;241m=\u001b[39mindex,\n\u001b[1;32m   9500\u001b[0m         columns\u001b[38;5;241m=\u001b[39mcolumns,\n\u001b[1;32m   9501\u001b[0m         aggfunc\u001b[38;5;241m=\u001b[39maggfunc,\n\u001b[1;32m   9502\u001b[0m         fill_value\u001b[38;5;241m=\u001b[39mfill_value,\n\u001b[1;32m   9503\u001b[0m         margins\u001b[38;5;241m=\u001b[39mmargins,\n\u001b[1;32m   9504\u001b[0m         dropna\u001b[38;5;241m=\u001b[39mdropna,\n\u001b[1;32m   9505\u001b[0m         margins_name\u001b[38;5;241m=\u001b[39mmargins_name,\n\u001b[1;32m   9506\u001b[0m         observed\u001b[38;5;241m=\u001b[39mobserved,\n\u001b[1;32m   9507\u001b[0m         sort\u001b[38;5;241m=\u001b[39msort,\n\u001b[1;32m   9508\u001b[0m     )\n",
      "File \u001b[0;32m~/miniconda3/lib/python3.11/site-packages/pandas/core/reshape/pivot.py:102\u001b[0m, in \u001b[0;36mpivot_table\u001b[0;34m(data, values, index, columns, aggfunc, fill_value, margins, dropna, margins_name, observed, sort)\u001b[0m\n\u001b[1;32m     99\u001b[0m     table \u001b[38;5;241m=\u001b[39m concat(pieces, keys\u001b[38;5;241m=\u001b[39mkeys, axis\u001b[38;5;241m=\u001b[39m\u001b[38;5;241m1\u001b[39m)\n\u001b[1;32m    100\u001b[0m     \u001b[38;5;28;01mreturn\u001b[39;00m table\u001b[38;5;241m.\u001b[39m__finalize__(data, method\u001b[38;5;241m=\u001b[39m\u001b[38;5;124m\"\u001b[39m\u001b[38;5;124mpivot_table\u001b[39m\u001b[38;5;124m\"\u001b[39m)\n\u001b[0;32m--> 102\u001b[0m table \u001b[38;5;241m=\u001b[39m __internal_pivot_table(\n\u001b[1;32m    103\u001b[0m     data,\n\u001b[1;32m    104\u001b[0m     values,\n\u001b[1;32m    105\u001b[0m     index,\n\u001b[1;32m    106\u001b[0m     columns,\n\u001b[1;32m    107\u001b[0m     aggfunc,\n\u001b[1;32m    108\u001b[0m     fill_value,\n\u001b[1;32m    109\u001b[0m     margins,\n\u001b[1;32m    110\u001b[0m     dropna,\n\u001b[1;32m    111\u001b[0m     margins_name,\n\u001b[1;32m    112\u001b[0m     observed,\n\u001b[1;32m    113\u001b[0m     sort,\n\u001b[1;32m    114\u001b[0m )\n\u001b[1;32m    115\u001b[0m \u001b[38;5;28;01mreturn\u001b[39;00m table\u001b[38;5;241m.\u001b[39m__finalize__(data, method\u001b[38;5;241m=\u001b[39m\u001b[38;5;124m\"\u001b[39m\u001b[38;5;124mpivot_table\u001b[39m\u001b[38;5;124m\"\u001b[39m)\n",
      "File \u001b[0;32m~/miniconda3/lib/python3.11/site-packages/pandas/core/reshape/pivot.py:172\u001b[0m, in \u001b[0;36m__internal_pivot_table\u001b[0;34m(data, values, index, columns, aggfunc, fill_value, margins, dropna, margins_name, observed, sort)\u001b[0m\n\u001b[1;32m    169\u001b[0m     values \u001b[38;5;241m=\u001b[39m \u001b[38;5;28mlist\u001b[39m(values)\n\u001b[1;32m    171\u001b[0m observed_bool \u001b[38;5;241m=\u001b[39m \u001b[38;5;28;01mFalse\u001b[39;00m \u001b[38;5;28;01mif\u001b[39;00m observed \u001b[38;5;129;01mis\u001b[39;00m lib\u001b[38;5;241m.\u001b[39mno_default \u001b[38;5;28;01melse\u001b[39;00m observed\n\u001b[0;32m--> 172\u001b[0m grouped \u001b[38;5;241m=\u001b[39m data\u001b[38;5;241m.\u001b[39mgroupby(keys, observed\u001b[38;5;241m=\u001b[39mobserved_bool, sort\u001b[38;5;241m=\u001b[39msort, dropna\u001b[38;5;241m=\u001b[39mdropna)\n\u001b[1;32m    173\u001b[0m \u001b[38;5;28;01mif\u001b[39;00m observed \u001b[38;5;129;01mis\u001b[39;00m lib\u001b[38;5;241m.\u001b[39mno_default \u001b[38;5;129;01mand\u001b[39;00m \u001b[38;5;28many\u001b[39m(\n\u001b[1;32m    174\u001b[0m     ping\u001b[38;5;241m.\u001b[39m_passed_categorical \u001b[38;5;28;01mfor\u001b[39;00m ping \u001b[38;5;129;01min\u001b[39;00m grouped\u001b[38;5;241m.\u001b[39m_grouper\u001b[38;5;241m.\u001b[39mgroupings\n\u001b[1;32m    175\u001b[0m ):\n\u001b[1;32m    176\u001b[0m     warnings\u001b[38;5;241m.\u001b[39mwarn(\n\u001b[1;32m    177\u001b[0m         \u001b[38;5;124m\"\u001b[39m\u001b[38;5;124mThe default value of observed=False is deprecated and will change \u001b[39m\u001b[38;5;124m\"\u001b[39m\n\u001b[1;32m    178\u001b[0m         \u001b[38;5;124m\"\u001b[39m\u001b[38;5;124mto observed=True in a future version of pandas. Specify \u001b[39m\u001b[38;5;124m\"\u001b[39m\n\u001b[0;32m   (...)\u001b[0m\n\u001b[1;32m    181\u001b[0m         stacklevel\u001b[38;5;241m=\u001b[39mfind_stack_level(),\n\u001b[1;32m    182\u001b[0m     )\n",
      "File \u001b[0;32m~/miniconda3/lib/python3.11/site-packages/pandas/core/frame.py:9170\u001b[0m, in \u001b[0;36mDataFrame.groupby\u001b[0;34m(self, by, axis, level, as_index, sort, group_keys, observed, dropna)\u001b[0m\n\u001b[1;32m   9167\u001b[0m \u001b[38;5;28;01mif\u001b[39;00m level \u001b[38;5;129;01mis\u001b[39;00m \u001b[38;5;28;01mNone\u001b[39;00m \u001b[38;5;129;01mand\u001b[39;00m by \u001b[38;5;129;01mis\u001b[39;00m \u001b[38;5;28;01mNone\u001b[39;00m:\n\u001b[1;32m   9168\u001b[0m     \u001b[38;5;28;01mraise\u001b[39;00m \u001b[38;5;167;01mTypeError\u001b[39;00m(\u001b[38;5;124m\"\u001b[39m\u001b[38;5;124mYou have to supply one of \u001b[39m\u001b[38;5;124m'\u001b[39m\u001b[38;5;124mby\u001b[39m\u001b[38;5;124m'\u001b[39m\u001b[38;5;124m and \u001b[39m\u001b[38;5;124m'\u001b[39m\u001b[38;5;124mlevel\u001b[39m\u001b[38;5;124m'\u001b[39m\u001b[38;5;124m\"\u001b[39m)\n\u001b[0;32m-> 9170\u001b[0m \u001b[38;5;28;01mreturn\u001b[39;00m DataFrameGroupBy(\n\u001b[1;32m   9171\u001b[0m     obj\u001b[38;5;241m=\u001b[39m\u001b[38;5;28mself\u001b[39m,\n\u001b[1;32m   9172\u001b[0m     keys\u001b[38;5;241m=\u001b[39mby,\n\u001b[1;32m   9173\u001b[0m     axis\u001b[38;5;241m=\u001b[39maxis,\n\u001b[1;32m   9174\u001b[0m     level\u001b[38;5;241m=\u001b[39mlevel,\n\u001b[1;32m   9175\u001b[0m     as_index\u001b[38;5;241m=\u001b[39mas_index,\n\u001b[1;32m   9176\u001b[0m     sort\u001b[38;5;241m=\u001b[39msort,\n\u001b[1;32m   9177\u001b[0m     group_keys\u001b[38;5;241m=\u001b[39mgroup_keys,\n\u001b[1;32m   9178\u001b[0m     observed\u001b[38;5;241m=\u001b[39mobserved,\n\u001b[1;32m   9179\u001b[0m     dropna\u001b[38;5;241m=\u001b[39mdropna,\n\u001b[1;32m   9180\u001b[0m )\n",
      "File \u001b[0;32m~/miniconda3/lib/python3.11/site-packages/pandas/core/groupby/groupby.py:1329\u001b[0m, in \u001b[0;36mGroupBy.__init__\u001b[0;34m(self, obj, keys, axis, level, grouper, exclusions, selection, as_index, sort, group_keys, observed, dropna)\u001b[0m\n\u001b[1;32m   1326\u001b[0m \u001b[38;5;28mself\u001b[39m\u001b[38;5;241m.\u001b[39mdropna \u001b[38;5;241m=\u001b[39m dropna\n\u001b[1;32m   1328\u001b[0m \u001b[38;5;28;01mif\u001b[39;00m grouper \u001b[38;5;129;01mis\u001b[39;00m \u001b[38;5;28;01mNone\u001b[39;00m:\n\u001b[0;32m-> 1329\u001b[0m     grouper, exclusions, obj \u001b[38;5;241m=\u001b[39m get_grouper(\n\u001b[1;32m   1330\u001b[0m         obj,\n\u001b[1;32m   1331\u001b[0m         keys,\n\u001b[1;32m   1332\u001b[0m         axis\u001b[38;5;241m=\u001b[39maxis,\n\u001b[1;32m   1333\u001b[0m         level\u001b[38;5;241m=\u001b[39mlevel,\n\u001b[1;32m   1334\u001b[0m         sort\u001b[38;5;241m=\u001b[39msort,\n\u001b[1;32m   1335\u001b[0m         observed\u001b[38;5;241m=\u001b[39m\u001b[38;5;28;01mFalse\u001b[39;00m \u001b[38;5;28;01mif\u001b[39;00m observed \u001b[38;5;129;01mis\u001b[39;00m lib\u001b[38;5;241m.\u001b[39mno_default \u001b[38;5;28;01melse\u001b[39;00m observed,\n\u001b[1;32m   1336\u001b[0m         dropna\u001b[38;5;241m=\u001b[39m\u001b[38;5;28mself\u001b[39m\u001b[38;5;241m.\u001b[39mdropna,\n\u001b[1;32m   1337\u001b[0m     )\n\u001b[1;32m   1339\u001b[0m \u001b[38;5;28;01mif\u001b[39;00m observed \u001b[38;5;129;01mis\u001b[39;00m lib\u001b[38;5;241m.\u001b[39mno_default:\n\u001b[1;32m   1340\u001b[0m     \u001b[38;5;28;01mif\u001b[39;00m \u001b[38;5;28many\u001b[39m(ping\u001b[38;5;241m.\u001b[39m_passed_categorical \u001b[38;5;28;01mfor\u001b[39;00m ping \u001b[38;5;129;01min\u001b[39;00m grouper\u001b[38;5;241m.\u001b[39mgroupings):\n",
      "File \u001b[0;32m~/miniconda3/lib/python3.11/site-packages/pandas/core/groupby/grouper.py:1043\u001b[0m, in \u001b[0;36mget_grouper\u001b[0;34m(obj, key, axis, level, sort, observed, validate, dropna)\u001b[0m\n\u001b[1;32m   1041\u001b[0m         in_axis, level, gpr \u001b[38;5;241m=\u001b[39m \u001b[38;5;28;01mFalse\u001b[39;00m, gpr, \u001b[38;5;28;01mNone\u001b[39;00m\n\u001b[1;32m   1042\u001b[0m     \u001b[38;5;28;01melse\u001b[39;00m:\n\u001b[0;32m-> 1043\u001b[0m         \u001b[38;5;28;01mraise\u001b[39;00m \u001b[38;5;167;01mKeyError\u001b[39;00m(gpr)\n\u001b[1;32m   1044\u001b[0m \u001b[38;5;28;01melif\u001b[39;00m \u001b[38;5;28misinstance\u001b[39m(gpr, Grouper) \u001b[38;5;129;01mand\u001b[39;00m gpr\u001b[38;5;241m.\u001b[39mkey \u001b[38;5;129;01mis\u001b[39;00m \u001b[38;5;129;01mnot\u001b[39;00m \u001b[38;5;28;01mNone\u001b[39;00m:\n\u001b[1;32m   1045\u001b[0m     \u001b[38;5;66;03m# Add key to exclusions\u001b[39;00m\n\u001b[1;32m   1046\u001b[0m     exclusions\u001b[38;5;241m.\u001b[39madd(gpr\u001b[38;5;241m.\u001b[39mkey)\n",
      "\u001b[0;31mKeyError\u001b[0m: 'year-month'"
     ]
    }
   ],
   "source": [
    "queryMonthDF = dfUnique.pivot_table(index=\"query\", \n",
    "                                    columns=\"year-month\", \n",
    "                                    aggfunc=\"size\", \n",
    "                                    fill_value=0)\n",
    "queryMonthDF.head()"
   ]
  },
  {
   "cell_type": "markdown",
   "id": "4eb12338-b7e2-4520-bbf0-c90d7299774b",
   "metadata": {},
   "source": [
    "Let's validate that all articles are shown in this table:"
   ]
  },
  {
   "cell_type": "code",
   "execution_count": 57,
   "id": "abaabb0e-cc69-43a8-8b6d-3f9e1b3102a1",
   "metadata": {},
   "outputs": [
    {
     "ename": "NameError",
     "evalue": "name 'queryMonthDF' is not defined",
     "output_type": "error",
     "traceback": [
      "\u001b[0;31m---------------------------------------------------------------------------\u001b[0m",
      "\u001b[0;31mNameError\u001b[0m                                 Traceback (most recent call last)",
      "Cell \u001b[0;32mIn[57], line 1\u001b[0m\n\u001b[0;32m----> 1\u001b[0m queryMonthDF\u001b[38;5;241m.\u001b[39msum()\u001b[38;5;241m.\u001b[39msum()\n",
      "\u001b[0;31mNameError\u001b[0m: name 'queryMonthDF' is not defined"
     ]
    }
   ],
   "source": [
    "queryMonthDF.sum().sum()"
   ]
  },
  {
   "cell_type": "markdown",
   "id": "a5e45c16-2902-4101-8cae-266681fde636",
   "metadata": {},
   "source": [
    "It's looks right!"
   ]
  },
  {
   "cell_type": "markdown",
   "id": "f387669c-97c7-4c51-ac20-5b1118631179",
   "metadata": {},
   "source": [
    "### Generate the time series plot\n",
    "\n",
    "There are many ways to create a time series plot. Because I gave you this task before you had seen pandas timeseries, below I will show how to create the plot using linebars. There are two ways to do this.\n",
    "\n",
    "**Soution 1: Plot line bars with a for loop**\n",
    "\n",
    "Because the table we created above is a pivot table, also known as a \"wide table\" (different from the \"tidy table\"), seaborn doesn't know how to work with it directly, so we have to generate each line within a for loop. "
   ]
  },
  {
   "cell_type": "code",
   "execution_count": null,
   "id": "53ea12fd-70e5-425e-bc9f-12d490b19552",
   "metadata": {},
   "outputs": [],
   "source": [
    "plt.figure(figsize=(10, 4))\n",
    "plt.style.use('fivethirtyeight')\n",
    "\n",
    "# Iterate over each row to plot\n",
    "for index, row in queryMonthDF.iterrows():\n",
    "    sns.lineplot(x=queryMonthDF.columns,  # the year-month values\n",
    "                 y=row.values,  # the counts for each query\n",
    "                 label=index, # this will be the query values\n",
    "                 lw=3)\n",
    "\n",
    "# Change the parameters of the current axes (plot) to deal with the font size\n",
    "plt.xticks(rotation=45) # Rotate dates\n",
    "plt.ylabel('Article count', fontsize=10)\n",
    "plt.xlabel('Year-Month', fontsize=10)\n",
    "plt.xticks(fontsize=10)\n",
    "plt.yticks(fontsize=10)\n",
    "plt.title('Number of unique articles by query', fontsize=12)\n",
    "plt.legend(title='Query', fontsize=10, loc=\"upper right\", title_fontsize=12)\n",
    "\n",
    "plt.show()"
   ]
  },
  {
   "cell_type": "markdown",
   "id": "e935dc1a-8d8d-456c-ac48-25dd323ea2d8",
   "metadata": {},
   "source": [
    "**Solution 2: Wide table vs. long table**\n",
    "\n",
    "We mentioned that the `pivot_table` method creates a **wide format table**. Seaborn prefers to work with a **long format table** (we called it the tidy data).  \n",
    "Thus, we will convert the wide table to a long table.\n",
    "\n",
    "First, let's look again at our wide-format table:"
   ]
  },
  {
   "cell_type": "code",
   "execution_count": null,
   "id": "21f13166-94bf-4ebe-b22b-8bda6bd5fae6",
   "metadata": {},
   "outputs": [],
   "source": [
    "queryMonthDF"
   ]
  },
  {
   "cell_type": "markdown",
   "id": "706f922d-02de-43bc-9244-d79b827d5245",
   "metadata": {},
   "source": [
    "Notice that the first column, query, is also serving as an index column. Eventually, what we want is to **unpivot** this table and create a table that looks like this:\n",
    "\n",
    "```\n",
    "query year-month count\n",
    "Anthony Fauci 2020-04 0\n",
    "Anthony Fauci 2020-05 175\n",
    "Anthony Fauci 2020-06 304\n",
    "...\n",
    "Covid-19 2020-04 102\n",
    "Covid-19 2020-04 531\n",
    "...\n",
    "```\n",
    "\n",
    "That is from a table that now has 11 colums x 5 rows, we want a table with 3 columns and 55 rows (from wide to long).\n",
    "\n",
    "The method `melt` below will perform this:"
   ]
  },
  {
   "cell_type": "code",
   "execution_count": null,
   "id": "ba4cf817-b71b-46c7-9d71-a46517a588ff",
   "metadata": {},
   "outputs": [],
   "source": [
    "dfLongTab = queryMonthDF.reset_index().melt(id_vars='query',  # column that remains an \"identifier\" column, will not be melted\n",
    "                                          var_name='year-month', # name for variable column created after the melting (this contains names of melted columns)\n",
    "                                          value_name='count') # column created after melting (contains values of melted columns)\n",
    "dfLongTab.head()"
   ]
  },
  {
   "cell_type": "markdown",
   "id": "6026ecd2-ba54-4d99-a608-b8c0d815b536",
   "metadata": {},
   "source": [
    "Let's check the shape of the created dataframe. "
   ]
  },
  {
   "cell_type": "code",
   "execution_count": null,
   "id": "f7d308b1-9724-40a8-8df6-70dccd73f5ba",
   "metadata": {},
   "outputs": [],
   "source": [
    "dfLongTab.shape"
   ]
  },
  {
   "cell_type": "markdown",
   "id": "69bf1b20-51d5-4550-afad-f4ffdc3065b1",
   "metadata": {},
   "source": [
    "It's exactly what we expected!\n",
    "\n",
    "Now that we have the data in the desired format, we can do the plotting without having to use a for loop to iterate through the lines, seaborn will do that itself."
   ]
  },
  {
   "cell_type": "code",
   "execution_count": null,
   "id": "9821448c-01c1-4d5f-afd9-3cb6e1db2e74",
   "metadata": {},
   "outputs": [],
   "source": [
    "plt.figure(figsize=(10, 4))\n",
    "plt.style.use('fivethirtyeight')\n",
    "\n",
    "sns.lineplot(data=dfLongTab, \n",
    "             x='year-month', \n",
    "             y='count', \n",
    "             hue='query', lw=3)\n",
    "\n",
    "# Change the parameters of the current axes (plot) to deal with the font size\n",
    "plt.xticks(rotation=45) # Rotate dates\n",
    "plt.ylabel('Article count', fontsize=10)\n",
    "plt.xlabel('Year-Month', fontsize=10)\n",
    "plt.xticks(fontsize=10)\n",
    "plt.yticks(fontsize=10)\n",
    "plt.title('Number of unique articles by query', fontsize=12)\n",
    "plt.legend(title='Query', fontsize=10, loc=\"upper right\", title_fontsize=12)\n",
    "\n",
    "plt.show()"
   ]
  },
  {
   "cell_type": "markdown",
   "id": "9db950fe-1854-4f94-83bf-747206660c77",
   "metadata": {},
   "source": [
    "Notice that we produced the same graph but with two different starting dataframes and code for generating the lines. "
   ]
  },
  {
   "cell_type": "markdown",
   "id": "7b252265-29f9-4d94-8be1-531000074e95",
   "metadata": {},
   "source": [
    "**Your Task: Plot each month**\n",
    "\n",
    "Using the code above, create two functions:\n",
    "1. Create a function that given a year-month value, for example: \"2020-05\", prepares the dataframe that contains the \"month-day\" counts of the unique articles for each query.\n",
    "2. Create a function that can take the output from point 1) and plot the lineplot.\n",
    "\n",
    "Excecute these functions for at least two dates."
   ]
  },
  {
   "cell_type": "code",
   "execution_count": null,
   "id": "b3747600-a7d3-4fd3-a69e-a39406d77ed0",
   "metadata": {},
   "outputs": [],
   "source": [
    "def monDayDf(year, month):\n",
    "    articleCount = 0"
   ]
  },
  {
   "cell_type": "code",
   "execution_count": null,
   "id": "f5424f8d-52fe-4f53-b3c5-7cf4d99299dc",
   "metadata": {},
   "outputs": [],
   "source": [
    "def linePlot"
   ]
  }
 ],
 "metadata": {
  "kernelspec": {
   "display_name": "Python 3 (ipykernel)",
   "language": "python",
   "name": "python3"
  },
  "language_info": {
   "codemirror_mode": {
    "name": "ipython",
    "version": 3
   },
   "file_extension": ".py",
   "mimetype": "text/x-python",
   "name": "python",
   "nbconvert_exporter": "python",
   "pygments_lexer": "ipython3",
   "version": "3.11.5"
  }
 },
 "nbformat": 4,
 "nbformat_minor": 5
}
